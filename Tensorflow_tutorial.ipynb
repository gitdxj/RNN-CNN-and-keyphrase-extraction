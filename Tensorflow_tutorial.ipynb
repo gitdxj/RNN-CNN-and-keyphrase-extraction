{
 "cells": [
  {
   "cell_type": "markdown",
   "metadata": {},
   "source": [
    "# TensorFlow 2 and Keras API"
   ]
  },
  {
   "cell_type": "markdown",
   "metadata": {},
   "source": [
    "## Deep Learning Frameworks"
   ]
  },
  {
   "cell_type": "markdown",
   "metadata": {},
   "source": [
    "![alt text](https://cdn-gcp.marutitech.com/wp-media/2018/03/8f25ea16-top-8-deep-learning-frameworks.png \"deep learning frameworks\"\n",
    "        )\n"
   ]
  },
  {
   "cell_type": "markdown",
   "metadata": {},
   "source": [
    "### Tensorflow: \n",
    "Tensorflow is a popular open-source library, released in 2015 by Google Brain for machine learning and deep learning models. TensorFlow supports languages such as Python, C++, and R to create deep learning models along with wrapper libraries. \n",
    "\n"
   ]
  },
  {
   "cell_type": "markdown",
   "metadata": {},
   "source": [
    "### Keras: \n",
    "Keras is a **high-level** library that is built on top of TensorFlow, which from Tensorflow 2.0 became integrated into the library (you only need to install Tensorflow 2). The key idea behind the development of Keras is to facilitate experimentations by fast prototyping.  A good rule of thumb is to use Keras unless you are building a very special neural network or you want the control and ability to watch how your network changes over time."
   ]
  },
  {
   "cell_type": "markdown",
   "metadata": {},
   "source": [
    "![alt text](https://jamesmccaffrey.files.wordpress.com/2019/08/neural_library_comparison.jpg \"keras\"\n",
    "        )\n"
   ]
  },
  {
   "cell_type": "markdown",
   "metadata": {},
   "source": [
    "It used to support other backends like Theano/CNTK (microsoft congnitive toolkit), but not anymore. \n",
    "\n",
    "Let's compare the complexities: \n"
   ]
  },
  {
   "cell_type": "markdown",
   "metadata": {},
   "source": [
    "### Scikit-learn : \n",
    "Same inferface for all the supervised models. But with the intereface you require no information of the internal model. \n",
    "```\n",
    "model = MLP()\n",
    "model.fit(X,Y)\n",
    "model.predict(X)\n",
    "```"
   ]
  },
  {
   "cell_type": "markdown",
   "metadata": {},
   "source": [
    "### Keras: \n",
    "A bit more details, but still you can build a network with little knowledge of the internals. \n",
    "```\n",
    "model = Sequential()\n",
    "model.add(Dense(units=M, input_dim=D))\n",
    "model.add(Activation('relu')\n",
    "model.add(Dense(units=k))\n",
    "model.add(Activation('softmax')\n",
    "model.compile(loss='categorical_crossentropy')\n",
    "model.fit(X,Y)\n",
    "model.predict(X) \n",
    "\n",
    "```"
   ]
  },
  {
   "cell_type": "markdown",
   "metadata": {},
   "source": [
    "### How Does TensorFlow Work? "
   ]
  },
  {
   "cell_type": "markdown",
   "metadata": {},
   "source": [
    "TensorFlow performs computations with **computation graphs**. **Nodes** represent the **operations**, **Edges** mainly carry data structures (tensors), where an output of one operation (from one node) becomes the input for another operation. You can represent complex operations in terms of a graph: \n",
    "\n",
    "Consider this function: $g=(x+y)*z$, with $x=1,y=3,z=−3$. The computational graph of the function is shown below, it becomes useful during optimization. In our case, we would like to minimize $g$ as our cost function. Through left to right pass, you can compute $g$ and with the right to left pass, you can compute the gradients using the chain rules. "
   ]
  },
  {
   "cell_type": "markdown",
   "metadata": {},
   "source": [
    "![alt text](https://www.tutorialspoint.com/python_deep_learning/images/forward_pass_equation.jpg \"keras\"\n",
    "        )\n"
   ]
  },
  {
   "cell_type": "markdown",
   "metadata": {},
   "source": [
    "![alt text](https://www.tutorialspoint.com/python_deep_learning/images/backward_pass.jpg \"keras\"\n",
    "        )\n"
   ]
  },
  {
   "cell_type": "markdown",
   "metadata": {},
   "source": [
    "## TensorFlow Toolkit Hierarchy\n",
    "At the highest level, you have **Keras** and the **estimators**(TensorFlow Estimator is a high-level TensorFlow API that greatly simplifies machine learning programming), which are built on top of reusable libraries for model building (you can swap different layers). Low-level API allows you to further change the details of the model. The code itself can run on multiple platforms. "
   ]
  },
  {
   "cell_type": "markdown",
   "metadata": {},
   "source": [
    "![alt text](https://developers.google.com/machine-learning/crash-course/images/TFHierarchyNew.svg \"keras\"\n",
    "        )\n"
   ]
  },
  {
   "cell_type": "markdown",
   "metadata": {},
   "source": [
    "Let's take a look at the architecture..."
   ]
  },
  {
   "cell_type": "markdown",
   "metadata": {},
   "source": [
    "![alt text](https://1.bp.blogspot.com/-4C_bx62kOI4/XfE3XQT422I/AAAAAAAABmY/AbMfOO8yzjctmg30IcgOBaU5UmcZNpAtwCLcBGAsYHQ/s1600/model.png \"keras\"\n",
    "        )"
   ]
  },
  {
   "cell_type": "markdown",
   "metadata": {},
   "source": [
    "### Tensor: \n",
    "The core component is a **Tensor**, a **vector** or **matrix** of n-dimensions that represents all data types.\n",
    "![alt text](https://www.kdnuggets.com/wp-content/uploads/scalar-vector-matrix-tensor.jpg \"keras\" )\n"
   ]
  },
  {
   "cell_type": "markdown",
   "metadata": {},
   "source": [
    "In TensorFlow, tensors are defined by a **unit of dimensionality** called as a **rank**. \n",
    "A single number is what constitutes a scalar (0-rank (0D) tensor). A vector is a single dimension (1D, rank 1) tensor and a matrix is arranged as a grid of numbers and is technically a 2 dimension (2D) tensor. While, technically, all of the mentioned data types are tensors, informally when we speak of tensors we are generally speaking of the generalization of the concept of a matrix to 3 or more dimensions. \n",
    "\n",
    "- **Shape:** The length (number of elements) of each of the axes of a tensor.\n",
    "- **Rank:** Number of tensor axes. A scalar has rank 0, a vector has rank 1, a matrix is rank 2.\n",
    "- **Axis or Dimension:** A particular dimension of a tensor.\n",
    "- **Size:** The total number of items in the tensor, the product of the element of the shape vector."
   ]
  },
  {
   "cell_type": "markdown",
   "metadata": {},
   "source": [
    "![alt text](https://www.tensorflow.org/guide/images/tensor/shape.png \"keras\" )\n",
    "![alt text](https://www.tensorflow.org/guide/images/tensor/4-axis_block.png \"keras\" )"
   ]
  },
  {
   "cell_type": "markdown",
   "metadata": {},
   "source": [
    "Tensors are (kind of) like np.arrays. There are two kinds of important tensors: **tf.constant** and **tf.Variable**. "
   ]
  },
  {
   "cell_type": "markdown",
   "metadata": {},
   "source": [
    "As obvious by the name, Constants are used as **constants**. They create a node that takes a value that cannot change. You can only initialize them by a value and not an operation. "
   ]
  },
  {
   "cell_type": "code",
   "execution_count": 2,
   "metadata": {},
   "outputs": [
    {
     "data": {
      "text/plain": [
       "'2.4.1'"
      ]
     },
     "execution_count": 2,
     "metadata": {},
     "output_type": "execute_result"
    }
   ],
   "source": [
    "import tensorflow as tf\n",
    "import numpy as np\n",
    "tf.__version__"
   ]
  },
  {
   "cell_type": "code",
   "execution_count": 4,
   "metadata": {},
   "outputs": [
    {
     "data": {
      "text/plain": [
       "<tf.Tensor: shape=(3, 2, 5), dtype=int32, numpy=\n",
       "array([[[ 0,  1,  2,  3,  4],\n",
       "        [ 5,  6,  7,  8,  9]],\n",
       "\n",
       "       [[10, 11, 12, 13, 14],\n",
       "        [15, 16, 17, 18, 19]],\n",
       "\n",
       "       [[20, 21, 22, 23, 24],\n",
       "        [25, 26, 27, 28, 29]]])>"
      ]
     },
     "execution_count": 4,
     "metadata": {},
     "output_type": "execute_result"
    }
   ],
   "source": [
    "a = tf.constant([\n",
    "  [[0, 1, 2, 3, 4],\n",
    "   [5, 6, 7, 8, 9]],\n",
    "  [[10, 11, 12, 13, 14],\n",
    "   [15, 16, 17, 18, 19]],\n",
    "  [[20, 21, 22, 23, 24],\n",
    "   [25, 26, 27, 28, 29]],])\n",
    "a"
   ]
  },
  {
   "cell_type": "code",
   "execution_count": 3,
   "metadata": {},
   "outputs": [
    {
     "data": {
      "text/plain": [
       "<tf.Tensor: shape=(3, 4), dtype=float64, numpy=\n",
       "array([[0., 0., 0., 0.],\n",
       "       [0., 0., 0., 0.],\n",
       "       [0., 0., 0., 0.]])>"
      ]
     },
     "execution_count": 3,
     "metadata": {},
     "output_type": "execute_result"
    }
   ],
   "source": [
    "zeros = tf.zeros( shape=(3,4), dtype = tf.float64)\n",
    "zeros"
   ]
  },
  {
   "cell_type": "code",
   "execution_count": 5,
   "metadata": {},
   "outputs": [
    {
     "data": {
      "text/plain": [
       "<tf.Tensor: shape=(3, 4), dtype=float64, numpy=\n",
       "array([[1., 1., 1., 1.],\n",
       "       [1., 1., 1., 1.],\n",
       "       [1., 1., 1., 1.]])>"
      ]
     },
     "execution_count": 5,
     "metadata": {},
     "output_type": "execute_result"
    }
   ],
   "source": [
    "ones = tf.ones( shape= [3,4], dtype = tf.int32)\n",
    "tensor_as_float = tf.cast(ones,tf.float64)\n",
    "tensor_as_float"
   ]
  },
  {
   "cell_type": "code",
   "execution_count": 6,
   "metadata": {},
   "outputs": [
    {
     "data": {
      "text/plain": [
       "<tf.Tensor: shape=(3, 4), dtype=float32, numpy=\n",
       "array([[0.32669318, 0.45544958, 0.3584429 , 0.07073712],\n",
       "       [0.6238569 , 0.08552432, 0.25466347, 0.03679383],\n",
       "       [0.29987407, 0.6054789 , 0.9344928 , 0.00379372]], dtype=float32)>"
      ]
     },
     "execution_count": 6,
     "metadata": {},
     "output_type": "execute_result"
    }
   ],
   "source": [
    "random = tf.random.uniform( shape= [3,4])\n",
    "random"
   ]
  },
  {
   "cell_type": "code",
   "execution_count": null,
   "metadata": {},
   "outputs": [],
   "source": []
  },
  {
   "cell_type": "markdown",
   "metadata": {},
   "source": [
    " **shapes:**\n",
    "It is important to keep track of the meaning of each axis. Often axes are ordered from global to local: The batch axis - spatial dimensions (height,width,time) - features (embeddings). This way feature vectors are contiguous regions of memory. \n",
    "![alt text](https://www.tensorflow.org/guide/images/tensor/shape2.png \"keras\" )"
   ]
  },
  {
   "cell_type": "code",
   "execution_count": 9,
   "metadata": {},
   "outputs": [
    {
     "name": "stdout",
     "output_type": "stream",
     "text": [
      "Type of every element: <dtype: 'int32'>\n",
      "Number of axes: 3\n",
      "Shape of tensor (batch,time,features)>: (3, 2, 5)\n",
      "Elements along axis 0 of tensor: 3\n",
      "Elements along the last axis of tensor: 5\n",
      "Total number of elements (3*2*5):  30\n"
     ]
    }
   ],
   "source": [
    "print(\"Type of every element:\", a.dtype)\n",
    "print(\"Number of axes:\", a.ndim)\n",
    "print(\"Shape of tensor (batch,time,features)>:\", a.shape)\n",
    "print(\"Elements along axis 0 of tensor:\", a.shape[0])\n",
    "print(\"Elements along the last axis of tensor:\", a.shape[-1])\n",
    "print(\"Total number of elements (3*2*5): \", tf.size(a).numpy())"
   ]
  },
  {
   "cell_type": "code",
   "execution_count": 13,
   "metadata": {},
   "outputs": [
    {
     "data": {
      "text/plain": [
       "30"
      ]
     },
     "execution_count": 13,
     "metadata": {},
     "output_type": "execute_result"
    }
   ],
   "source": [
    "tf.size(a).numpy()"
   ]
  },
  {
   "cell_type": "markdown",
   "metadata": {},
   "source": [
    "**Indexing:** Very similar to NumPy. \n",
    "\n",
    "For single-axis: \n",
    "- starts at 0\n",
    "- negative indices count backward from the end\n",
    "- colons for slices "
   ]
  },
  {
   "cell_type": "code",
   "execution_count": 7,
   "metadata": {},
   "outputs": [
    {
     "name": "stdout",
     "output_type": "stream",
     "text": [
      "Second row, Second column, Second third axis 16\n",
      "unitll the third row, Second column, Second third axis [ 6 16]\n"
     ]
    }
   ],
   "source": [
    "print(\"Second row, Second column, Second third axis\", a[1, 1,1].numpy())\n",
    "print(\"unitll the third row, Second column, Second third axis\", a[:2, 1,1].numpy())"
   ]
  },
  {
   "cell_type": "markdown",
   "metadata": {},
   "source": [
    "**Manipulating Shapes:** very important. You often find yourself changing the shape of tensor to input different layers. \n"
   ]
  },
  {
   "cell_type": "code",
   "execution_count": 14,
   "metadata": {},
   "outputs": [
    {
     "name": "stdout",
     "output_type": "stream",
     "text": [
      "Reshaped from (3, 2, 5) to (3, 10)\n",
      "Flatten tensor:  tf.Tensor(\n",
      "[ 0  1  2  3  4  5  6  7  8  9 10 11 12 13 14 15 16 17 18 19 20 21 22 23\n",
      " 24 25 26 27 28 29], shape=(30,), dtype=int32)\n",
      "transposed from (3, 2, 5) to (2, 3, 5):\n"
     ]
    }
   ],
   "source": [
    "reshaped = tf.reshape(a, [3, 10]) \n",
    "print(\"Reshaped from {} to {}\".format(a.shape, reshaped.shape))\n",
    "print(\"Flatten tensor: \", tf.reshape(a, [-1]))# `-1` passed in the `shape` argument says \"Whatever fits\".\n",
    "print(\"transposed from {} to {}:\".format(a.shape ,tf.transpose(a,(1,0,2)).shape))"
   ]
  },
  {
   "cell_type": "code",
   "execution_count": 15,
   "metadata": {},
   "outputs": [
    {
     "name": "stdout",
     "output_type": "stream",
     "text": [
      "tf.Tensor(\n",
      "[[ 0  1  2  3  4  5  6  7  8  9]\n",
      " [10 11 12 13 14 15 16 17 18 19]\n",
      " [20 21 22 23 24 25 26 27 28 29]], shape=(3, 10), dtype=int32)\n"
     ]
    }
   ],
   "source": [
    "print(reshaped)"
   ]
  },
  {
   "cell_type": "markdown",
   "metadata": {},
   "source": [
    "For this 3x2x5 tensor, reshaping to (3x2)x5 or 3x(2x5) are both reasonable things to do, as the slices do not mix. You can always reshape a tensor to a new tensor with the same total number of elements, but you should respect the order of the axes.\n",
    "Swapping axes in `tf.reshape` does not work; you need `tf.transpose` for that. If the new shape is `None` then you have done something wrong. \n",
    "![alt text](https://www.tensorflow.org/guide/images/tensor/reshape-before.png \"keras\" )\n",
    "![alt text](https://www.tensorflow.org/guide/images/tensor/reshape-good1.png \"keras\" )\n",
    "![alt text](https://www.tensorflow.org/guide/images/tensor/reshape-good2.png \"keras\" )\n",
    "These do not make sense: \n",
    "![alt text](https://www.tensorflow.org/guide/images/tensor/reshape-bad.png \"keras\" )\n",
    "![alt text](https://www.tensorflow.org/guide/images/tensor/reshape-bad4.png \"keras\" )\n",
    "![alt text](https://www.tensorflow.org/guide/images/tensor/reshape-bad2.png \"keras\" )"
   ]
  },
  {
   "cell_type": "markdown",
   "metadata": {},
   "source": [
    "**Variable** are stateful nodes, meaning that they can retain their value over multiple executions of a graph. On the contrary to constant tensors, their value is changed during training and these are what make up the parameters of the mode. "
   ]
  },
  {
   "cell_type": "code",
   "execution_count": 18,
   "metadata": {},
   "outputs": [
    {
     "data": {
      "text/plain": [
       "<tf.Variable 'Variable:0' shape=(2, 2) dtype=float32, numpy=\n",
       "array([[1., 2.],\n",
       "       [3., 4.]], dtype=float32)>"
      ]
     },
     "execution_count": 18,
     "metadata": {},
     "output_type": "execute_result"
    }
   ],
   "source": [
    "my_tensor = tf.constant([[1.0, 2.0], [3.0, 4.0]])\n",
    "my_variable = tf.Variable(my_tensor)\n",
    "my_variable"
   ]
  },
  {
   "cell_type": "code",
   "execution_count": 16,
   "metadata": {},
   "outputs": [],
   "source": [
    "\n",
    "# Variables can be all kinds of types, just like tensors\n",
    "bool_variable = tf.Variable([False, False, False, True])\n",
    "complex_variable = tf.Variable([5 + 4j, 6 + 1j])"
   ]
  },
  {
   "cell_type": "markdown",
   "metadata": {},
   "source": [
    "Most tensor operations from the constant section also work on variables, although variables **cannot** be reshaped. However, values can be assigned to them using `assign`, which often uses the existing memory of the tensor to assign a new value and does not make a copy. The type and the shape of the assigned tensor should match the previous one. \n",
    "\n"
   ]
  },
  {
   "cell_type": "code",
   "execution_count": 19,
   "metadata": {},
   "outputs": [
    {
     "name": "stdout",
     "output_type": "stream",
     "text": [
      "Copying and reshaping:  tf.Tensor([[1. 2. 3. 4.]], shape=(1, 4), dtype=float32)\n",
      "New value: <tf.Variable 'UnreadVariable' shape=(2, 2) dtype=float32, numpy=\n",
      "array([[1., 2.],\n",
      "       [1., 2.]], dtype=float32)>\n"
     ]
    }
   ],
   "source": [
    "# This creates a new tensor; it does not reshape the variable.\n",
    "print(\"Copying and reshaping: \", tf.reshape(my_variable, ([1,4])))\n",
    "#print(\"New value:\",my_variable.assign([1, 2]) )\n",
    "#print(\"New value:\",my_variable.assign([[1, 2],[1, 2]]) )\n",
    "print(\"New value:\",my_variable.assign([[1.0, 2.0],[1.0, 2.0]]) )"
   ]
  },
  {
   "cell_type": "markdown",
   "metadata": {},
   "source": [
    "Some functions: "
   ]
  },
  {
   "cell_type": "code",
   "execution_count": 20,
   "metadata": {},
   "outputs": [
    {
     "data": {
      "text/plain": [
       "<tf.Tensor: shape=(2, 4), dtype=float32, numpy=\n",
       "array([[1., 2., 1., 2.],\n",
       "       [3., 4., 1., 2.]], dtype=float32)>"
      ]
     },
     "execution_count": 20,
     "metadata": {},
     "output_type": "execute_result"
    }
   ],
   "source": [
    "concat = tf.concat( values=[my_tensor,my_variable],axis=1)#axis=1, by rows\n",
    "concat"
   ]
  },
  {
   "cell_type": "code",
   "execution_count": 21,
   "metadata": {},
   "outputs": [
    {
     "data": {
      "text/plain": [
       "<tf.Tensor: shape=(2, 2), dtype=float32, numpy=\n",
       "array([[2., 4.],\n",
       "       [4., 6.]], dtype=float32)>"
      ]
     },
     "execution_count": 21,
     "metadata": {},
     "output_type": "execute_result"
    }
   ],
   "source": [
    "my_tensor + my_variable #you have operation overload for common operator"
   ]
  },
  {
   "cell_type": "code",
   "execution_count": 22,
   "metadata": {},
   "outputs": [
    {
     "data": {
      "text/plain": [
       "<tf.Tensor: shape=(2, 2), dtype=float32, numpy=\n",
       "array([[ 3.,  6.],\n",
       "       [ 7., 14.]], dtype=float32)>"
      ]
     },
     "execution_count": 22,
     "metadata": {},
     "output_type": "execute_result"
    }
   ],
   "source": [
    "tf.matmul(my_tensor,my_variable) #also functions like matrix multiplications, for rest look at the doc"
   ]
  },
  {
   "cell_type": "code",
   "execution_count": 23,
   "metadata": {},
   "outputs": [
    {
     "data": {
      "text/plain": [
       "<tf.Tensor: shape=(2, 2), dtype=float32, numpy=\n",
       "array([[1., 4.],\n",
       "       [3., 8.]], dtype=float32)>"
      ]
     },
     "execution_count": 23,
     "metadata": {},
     "output_type": "execute_result"
    }
   ],
   "source": [
    "tf.multiply(my_tensor,my_variable)"
   ]
  },
  {
   "cell_type": "markdown",
   "metadata": {},
   "source": [
    "**Glimpse of tf.function:**\n",
    "this will take a Python function and return a TensorFlow graph. The advantage of this is that graphs can apply optimizations and exploit parallelism in the Python function (func).\n"
   ]
  },
  {
   "cell_type": "code",
   "execution_count": 24,
   "metadata": {},
   "outputs": [
    {
     "data": {
      "text/plain": [
       "<tf.Tensor: shape=(2,), dtype=int32, numpy=array([22, 62])>"
      ]
     },
     "execution_count": 24,
     "metadata": {},
     "output_type": "execute_result"
    }
   ],
   "source": [
    "def linear(m,x,b):\n",
    "    return m*x+b\n",
    "\n",
    "m = tf.constant([2,3])\n",
    "x = tf.constant([10,20])\n",
    "b=2\n",
    "\n",
    "linear(m,x,b)"
   ]
  },
  {
   "cell_type": "markdown",
   "metadata": {},
   "source": [
    "So far we looked at how underlying functions of TensorFlow are like NumPy arrays. But what sets them apart from NumPy objects is automatic differentiation. \n",
    "To differentiate automatically, TensorFlow needs to remember what operations happen in what order during the forward pass. Then, during the backward pass, TensorFlow traverses this list of operations in reverse order to compute gradients."
   ]
  },
  {
   "cell_type": "markdown",
   "metadata": {},
   "source": [
    "**Gradient tapes:**  \n",
    "`tf.Variables` in TensorFlow \"record\" relevant operations executed onto a \"tape\"(`tf.GradientTape`). TensorFlow then uses that tape to compute the gradients with reverse-mode differentiation."
   ]
  },
  {
   "cell_type": "code",
   "execution_count": 26,
   "metadata": {},
   "outputs": [],
   "source": [
    "w = tf.Variable(tf.random.normal((3, 2)), name='w')\n",
    "b = tf.Variable(tf.zeros(2, dtype=tf.float32), name='b')\n",
    "x = [[1., 2., 3.]]\n",
    "\n",
    "with tf.GradientTape(persistent=True) as tape:\n",
    "    y = tf.matmul(x,w) + b\n",
    "    loss = tf.reduce_mean(y**2)"
   ]
  },
  {
   "cell_type": "code",
   "execution_count": 27,
   "metadata": {},
   "outputs": [
    {
     "name": "stdout",
     "output_type": "stream",
     "text": [
      "(3, 2)\n",
      "(3, 2)\n"
     ]
    },
    {
     "data": {
      "text/plain": [
       "<tf.Variable 'w:0' shape=(3, 2) dtype=float32, numpy=\n",
       "array([[ 0.24059273,  0.52459306],\n",
       "       [ 0.0861493 , -0.06391019],\n",
       "       [-1.1209941 , -1.4734967 ]], dtype=float32)>"
      ]
     },
     "execution_count": 27,
     "metadata": {},
     "output_type": "execute_result"
    }
   ],
   "source": [
    "[dl_dw, dl_db] = tape.gradient(loss, [w, b]) #GradientTape.gradient(target, sources)\n",
    "print(w.shape)\n",
    "print(dl_dw.shape)\n",
    "w"
   ]
  },
  {
   "cell_type": "code",
   "execution_count": 29,
   "metadata": {},
   "outputs": [
    {
     "data": {
      "text/plain": [
       "<tf.Tensor: shape=(2,), dtype=float32, numpy=array([-2.950091 , -4.0237174], dtype=float32)>"
      ]
     },
     "execution_count": 29,
     "metadata": {},
     "output_type": "execute_result"
    }
   ],
   "source": [
    "dl_db"
   ]
  },
  {
   "cell_type": "markdown",
   "metadata": {},
   "source": [
    "Any deep learning model is an accumulation of many variables. In most cases, you will want to calculate gradients with respect to a model's trainable variables. All trainable variables of a `tf.Module` are aggregated  in the Module.trainable_variables property, you can calculate these gradients in a few lines of code:"
   ]
  },
  {
   "cell_type": "code",
   "execution_count": 19,
   "metadata": {},
   "outputs": [
    {
     "name": "stdout",
     "output_type": "stream",
     "text": [
      "dense/kernel:0, shape: (3, 2)\n",
      "dense/bias:0, shape: (2,)\n"
     ]
    }
   ],
   "source": [
    "layer = tf.keras.layers.Dense(2, activation='relu')\n",
    "x = tf.constant([[1., 2., 3.]])\n",
    "\n",
    "with tf.GradientTape() as tape:\n",
    "  # Forward pass\n",
    "    y = layer(x)\n",
    "    loss = tf.reduce_mean(y**2)\n",
    "\n",
    "# Calculate gradients with respect to every trainable variable\n",
    "grad = tape.gradient(loss, layer.trainable_variables)\n",
    "for var, g in zip(layer.trainable_variables, grad):\n",
    "    print(f'{var.name}, shape: {g.shape}')"
   ]
  },
  {
   "cell_type": "markdown",
   "metadata": {},
   "source": [
    "# Models With Keras API"
   ]
  },
  {
   "cell_type": "markdown",
   "metadata": {},
   "source": [
    "In general, the objective of using a deep learning library is to define a model that can be saved and restored: \n",
    "A model is, abstractly:\n",
    "\n",
    "- A function that computes something on tensors (a forward pass)\n",
    "- Some variables that can be updated in response to training\n"
   ]
  },
  {
   "cell_type": "markdown",
   "metadata": {},
   "source": [
    "**tf.Module:** is the container that holds your model, with all the variables and layers. Each model is created from **layers**. Layers are functions with a known mathematical structure that can be reused and have trainable variables. In Keras the layers that are most commonly used are pre-build and you can use them out of the box. "
   ]
  },
  {
   "cell_type": "markdown",
   "metadata": {},
   "source": [
    "Keras offers some model building APIs: \n",
    "- **Sequential API:**  The Sequential API is the best for a simple model with a single input, output, and layer branch. \n",
    "-  **Functional API:** In addition to Sequential functionalities it also allows multiple inputs, multiple outputs, branching, and layer sharing. This allows for more customization and flexibility. (what you will use the most)\n",
    "- **Model Subclassing:** Suitable for advanced level developers who need full control over their model, layer, and training process. You can add your own subclasses. \n",
    "\n",
    "![alt text](https://miro.medium.com/max/1400/1*WzwKtnA0LEhiCGdWTTpLaA.png \"keras\" )\n"
   ]
  },
  {
   "cell_type": "markdown",
   "metadata": {},
   "source": [
    "## Deep Learning Model Life-Cycle"
   ]
  },
  {
   "cell_type": "markdown",
   "metadata": {},
   "source": [
    "The six steps in the life-cycle are as follows:\n",
    "\n",
    "1. **Define the model:** we use the APIs discussed above \n",
    "2. **Compile the model:** you choose the loss function, like mean squared error or cross-entropy, and an algorithm to perform the optimization procedure typically stochastic gradient descent, or a modern variation, such as Adam.\n",
    "3. **Fit the model:**select the training configuration, number of epochs, and the batch size, then apply the chosen optimization algorithm to minimize the chosen loss function and updates the model using the backpropagation. \n",
    "4. **Evaluate the model:** evaluate the model on a held-out set to see the performance.\n",
    "5. **Make predictions:** basically put the model to use in your application.\n",
    "6. **Saving and Loading a Model:** for future use. "
   ]
  },
  {
   "cell_type": "markdown",
   "metadata": {},
   "source": [
    "### Sequential API "
   ]
  },
  {
   "cell_type": "markdown",
   "metadata": {},
   "source": [
    "It is referred to as “sequential” because it involves defining a Sequential class and adding layers to the model one by one in a linear manner, from input to output.\n",
    "To look at how the Sequential API works we look at the example of predicting if a patients breast tissue is malignant or benign. A Sequential model is appropriate for a plain stack of layers where each layer has exactly one input tensor and one output tensor."
   ]
  },
  {
   "cell_type": "code",
   "execution_count": 30,
   "metadata": {},
   "outputs": [
    {
     "data": {
      "text/plain": [
       "sklearn.utils.Bunch"
      ]
     },
     "execution_count": 30,
     "metadata": {},
     "output_type": "execute_result"
    }
   ],
   "source": [
    "from sklearn.datasets import load_breast_cancer\n",
    "# load the data\n",
    "data = load_breast_cancer()\n",
    "type(data)"
   ]
  },
  {
   "cell_type": "code",
   "execution_count": 31,
   "metadata": {},
   "outputs": [
    {
     "data": {
      "text/plain": [
       "dict_keys(['data', 'target', 'frame', 'target_names', 'DESCR', 'feature_names', 'filename'])"
      ]
     },
     "execution_count": 31,
     "metadata": {},
     "output_type": "execute_result"
    }
   ],
   "source": [
    "# Bunch object\n",
    "# like a dictionary \n",
    "data.keys()"
   ]
  },
  {
   "cell_type": "code",
   "execution_count": 32,
   "metadata": {},
   "outputs": [
    {
     "data": {
      "text/plain": [
       "(569, 30)"
      ]
     },
     "execution_count": 32,
     "metadata": {},
     "output_type": "execute_result"
    }
   ],
   "source": [
    "#data is the data iself and the target is what we want to predict \n",
    "data.data.shape #(569(samples),30(features))"
   ]
  },
  {
   "cell_type": "code",
   "execution_count": 33,
   "metadata": {},
   "outputs": [
    {
     "data": {
      "text/plain": [
       "array(['mean radius', 'mean texture', 'mean perimeter', 'mean area',\n",
       "       'mean smoothness', 'mean compactness', 'mean concavity',\n",
       "       'mean concave points', 'mean symmetry', 'mean fractal dimension',\n",
       "       'radius error', 'texture error', 'perimeter error', 'area error',\n",
       "       'smoothness error', 'compactness error', 'concavity error',\n",
       "       'concave points error', 'symmetry error',\n",
       "       'fractal dimension error', 'worst radius', 'worst texture',\n",
       "       'worst perimeter', 'worst area', 'worst smoothness',\n",
       "       'worst compactness', 'worst concavity', 'worst concave points',\n",
       "       'worst symmetry', 'worst fractal dimension'], dtype='<U23')"
      ]
     },
     "execution_count": 33,
     "metadata": {},
     "output_type": "execute_result"
    }
   ],
   "source": [
    "data.feature_names"
   ]
  },
  {
   "cell_type": "code",
   "execution_count": 34,
   "metadata": {},
   "outputs": [
    {
     "data": {
      "text/plain": [
       "array(['malignant', 'benign'], dtype='<U9')"
      ]
     },
     "execution_count": 34,
     "metadata": {},
     "output_type": "execute_result"
    }
   ],
   "source": [
    "data.target_names"
   ]
  },
  {
   "cell_type": "code",
   "execution_count": 35,
   "metadata": {},
   "outputs": [
    {
     "data": {
      "text/plain": [
       "(569,)"
      ]
     },
     "execution_count": 35,
     "metadata": {},
     "output_type": "execute_result"
    }
   ],
   "source": [
    "data.target.shape"
   ]
  },
  {
   "cell_type": "code",
   "execution_count": 36,
   "metadata": {},
   "outputs": [],
   "source": [
    "from sklearn.model_selection import train_test_split # to split the train and test set \n",
    "X_train, X_test, y_train, y_test = train_test_split(data.data, data.target, test_size=0.33)\n",
    "N, D = X_train.shape # we keep the shapes to define our model parameters afterwards. "
   ]
  },
  {
   "cell_type": "markdown",
   "metadata": {},
   "source": [
    "## Define the model:"
   ]
  },
  {
   "cell_type": "code",
   "execution_count": 37,
   "metadata": {},
   "outputs": [],
   "source": [
    "# Build the model\n",
    "model = tf.keras.models.Sequential(name=\"my_sequential\") # useful for TensorBoard graphs \n",
    "model.add(tf.keras.layers.Dense(10, activation='relu', input_shape=(D,)))# linear transformation \n",
    "model.add(tf.keras.layers.Dense(8, activation='relu'))# units=#outpus, activation=the activation function, use_bias=IF false no bais,\n",
    "model.add(tf.keras.layers.Dense(1, activation='sigmoid'))# we want to predict between 0 and 1 "
   ]
  },
  {
   "cell_type": "code",
   "execution_count": 38,
   "metadata": {},
   "outputs": [
    {
     "data": {
      "text/plain": [
       "[<tensorflow.python.keras.layers.core.Dense at 0x18c59928d90>,\n",
       " <tensorflow.python.keras.layers.core.Dense at 0x18c59952d60>,\n",
       " <tensorflow.python.keras.layers.core.Dense at 0x18c599ebd60>]"
      ]
     },
     "execution_count": 38,
     "metadata": {},
     "output_type": "execute_result"
    }
   ],
   "source": [
    "model.layers# you can acess the layers with .layers attribute "
   ]
  },
  {
   "cell_type": "markdown",
   "metadata": {},
   "source": [
    "A Sequential model behaves very much like a list of layers."
   ]
  },
  {
   "cell_type": "code",
   "execution_count": 39,
   "metadata": {},
   "outputs": [
    {
     "name": "stdout",
     "output_type": "stream",
     "text": [
      "3\n",
      "2\n"
     ]
    },
    {
     "data": {
      "text/plain": [
       "[<tensorflow.python.keras.layers.core.Dense at 0x18c59928d90>,\n",
       " <tensorflow.python.keras.layers.core.Dense at 0x18c59952d60>]"
      ]
     },
     "execution_count": 39,
     "metadata": {},
     "output_type": "execute_result"
    }
   ],
   "source": [
    "print(len(model.layers)) # 3\n",
    "model.pop()\n",
    "print(len(model.layers))  # 2\n",
    "model.layers"
   ]
  },
  {
   "cell_type": "code",
   "execution_count": 40,
   "metadata": {
    "scrolled": false
   },
   "outputs": [
    {
     "data": {
      "text/plain": [
       "[<tensorflow.python.keras.layers.core.Dense at 0x18c59928d90>,\n",
       " <tensorflow.python.keras.layers.core.Dense at 0x18c59952d60>,\n",
       " <tensorflow.python.keras.layers.core.Dense at 0x18c5984de50>]"
      ]
     },
     "execution_count": 40,
     "metadata": {},
     "output_type": "execute_result"
    }
   ],
   "source": [
    "model.add(tf.keras.layers.Dense(1, activation='sigmoid'))\n",
    "model.layers"
   ]
  },
  {
   "cell_type": "code",
   "execution_count": 41,
   "metadata": {},
   "outputs": [
    {
     "data": {
      "text/plain": [
       "<tf.Variable 'dense/bias:0' shape=(10,) dtype=float32, numpy=array([0., 0., 0., 0., 0., 0., 0., 0., 0., 0.], dtype=float32)>"
      ]
     },
     "execution_count": 41,
     "metadata": {},
     "output_type": "execute_result"
    }
   ],
   "source": [
    "model.weights[1]#to the parameteres (The weights of the first layer)"
   ]
  },
  {
   "cell_type": "code",
   "execution_count": 42,
   "metadata": {},
   "outputs": [
    {
     "name": "stdout",
     "output_type": "stream",
     "text": [
      "Model: \"my_sequential\"\n",
      "_________________________________________________________________\n",
      "Layer (type)                 Output Shape              Param #   \n",
      "=================================================================\n",
      "dense (Dense)                (None, 10)                310       \n",
      "_________________________________________________________________\n",
      "dense_1 (Dense)              (None, 8)                 88        \n",
      "_________________________________________________________________\n",
      "dense_3 (Dense)              (None, 1)                 9         \n",
      "=================================================================\n",
      "Total params: 407\n",
      "Trainable params: 407\n",
      "Non-trainable params: 0\n",
      "_________________________________________________________________\n"
     ]
    }
   ],
   "source": [
    "model.summary() #shows the content of the model "
   ]
  },
  {
   "cell_type": "markdown",
   "metadata": {},
   "source": [
    "## Compile the model: "
   ]
  },
  {
   "cell_type": "markdown",
   "metadata": {},
   "source": [
    "Keras API offers many built-in losses, metrics, or optimizers:\n",
    "\n",
    "Optimizers:\n",
    "\n",
    "- SGD (with or without momentum\n",
    "- RMSprop\n",
    "- Adam\n",
    "...\n",
    "\n",
    "Losses:\n",
    "\n",
    "- MeanSquaredError\n",
    "- KLDivergence\n",
    "- CosineSimilarity\n",
    "...\n",
    "\n",
    "Metrics:\n",
    "- AUC\n",
    "- Precision\n",
    "- Recall\n",
    "...\n"
   ]
  },
  {
   "cell_type": "code",
   "execution_count": 43,
   "metadata": {},
   "outputs": [],
   "source": [
    "model.compile(optimizer='adam',# optimizing algorithm\n",
    "              loss='binary_crossentropy', # loss functions \n",
    "              metrics=['accuracy'])# metric we want to monitor, should be a list -- your model can have any number of metrics."
   ]
  },
  {
   "cell_type": "markdown",
   "metadata": {},
   "source": [
    "## Fit the model:"
   ]
  },
  {
   "cell_type": "code",
   "execution_count": 44,
   "metadata": {},
   "outputs": [
    {
     "name": "stdout",
     "output_type": "stream",
     "text": [
      "Epoch 1/50\n",
      "5/5 [==============================] - 1s 80ms/step - loss: 15.6104 - accuracy: 0.6504 - val_loss: 12.3895 - val_accuracy: 0.6753\n",
      "Epoch 2/50\n",
      "5/5 [==============================] - 0s 12ms/step - loss: 13.6579 - accuracy: 0.6546 - val_loss: 10.4257 - val_accuracy: 0.6753\n",
      "Epoch 3/50\n",
      "5/5 [==============================] - 0s 11ms/step - loss: 11.9285 - accuracy: 0.6242 - val_loss: 8.5375 - val_accuracy: 0.6753\n",
      "Epoch 4/50\n",
      "5/5 [==============================] - 0s 13ms/step - loss: 9.7159 - accuracy: 0.6253 - val_loss: 6.7313 - val_accuracy: 0.6753\n",
      "Epoch 5/50\n",
      "5/5 [==============================] - 0s 12ms/step - loss: 7.3987 - accuracy: 0.6365 - val_loss: 4.9775 - val_accuracy: 0.6753\n",
      "Epoch 6/50\n",
      "5/5 [==============================] - 0s 12ms/step - loss: 5.6262 - accuracy: 0.6172 - val_loss: 3.3362 - val_accuracy: 0.6753\n",
      "Epoch 7/50\n",
      "5/5 [==============================] - 0s 12ms/step - loss: 3.9181 - accuracy: 0.6259 - val_loss: 1.7878 - val_accuracy: 0.6753\n",
      "Epoch 8/50\n",
      "5/5 [==============================] - 0s 12ms/step - loss: 1.7573 - accuracy: 0.6467 - val_loss: 0.6179 - val_accuracy: 0.7273\n",
      "Epoch 9/50\n",
      "5/5 [==============================] - 0s 12ms/step - loss: 0.6366 - accuracy: 0.6936 - val_loss: 0.8486 - val_accuracy: 0.3247\n",
      "Epoch 10/50\n",
      "5/5 [==============================] - 0s 11ms/step - loss: 0.8729 - accuracy: 0.3758 - val_loss: 0.9510 - val_accuracy: 0.3247\n",
      "Epoch 11/50\n",
      "5/5 [==============================] - 0s 11ms/step - loss: 0.8329 - accuracy: 0.3624 - val_loss: 0.6553 - val_accuracy: 0.4416\n",
      "Epoch 12/50\n",
      "5/5 [==============================] - 0s 11ms/step - loss: 0.5845 - accuracy: 0.6301 - val_loss: 0.5137 - val_accuracy: 0.8052\n",
      "Epoch 13/50\n",
      "5/5 [==============================] - 0s 12ms/step - loss: 0.5342 - accuracy: 0.7706 - val_loss: 0.5655 - val_accuracy: 0.7013\n",
      "Epoch 14/50\n",
      "5/5 [==============================] - 0s 12ms/step - loss: 0.5655 - accuracy: 0.7481 - val_loss: 0.4924 - val_accuracy: 0.8182\n",
      "Epoch 15/50\n",
      "5/5 [==============================] - 0s 12ms/step - loss: 0.4942 - accuracy: 0.8330 - val_loss: 0.5069 - val_accuracy: 0.8571\n",
      "Epoch 16/50\n",
      "5/5 [==============================] - 0s 12ms/step - loss: 0.4779 - accuracy: 0.8802 - val_loss: 0.4865 - val_accuracy: 0.8182\n",
      "Epoch 17/50\n",
      "5/5 [==============================] - 0s 10ms/step - loss: 0.4710 - accuracy: 0.8707 - val_loss: 0.4768 - val_accuracy: 0.8182\n",
      "Epoch 18/50\n",
      "5/5 [==============================] - 0s 13ms/step - loss: 0.4654 - accuracy: 0.8624 - val_loss: 0.4719 - val_accuracy: 0.8182\n",
      "Epoch 19/50\n",
      "5/5 [==============================] - 0s 10ms/step - loss: 0.4495 - accuracy: 0.8678 - val_loss: 0.4697 - val_accuracy: 0.8442\n",
      "Epoch 20/50\n",
      "5/5 [==============================] - 0s 13ms/step - loss: 0.4601 - accuracy: 0.8754 - val_loss: 0.4674 - val_accuracy: 0.8312\n",
      "Epoch 21/50\n",
      "5/5 [==============================] - 0s 11ms/step - loss: 0.4504 - accuracy: 0.8809 - val_loss: 0.4582 - val_accuracy: 0.8182\n",
      "Epoch 22/50\n",
      "5/5 [==============================] - 0s 13ms/step - loss: 0.4420 - accuracy: 0.8528 - val_loss: 0.4531 - val_accuracy: 0.8182\n",
      "Epoch 23/50\n",
      "5/5 [==============================] - 0s 12ms/step - loss: 0.4418 - accuracy: 0.8628 - val_loss: 0.4535 - val_accuracy: 0.8442\n",
      "Epoch 24/50\n",
      "5/5 [==============================] - 0s 12ms/step - loss: 0.4286 - accuracy: 0.8872 - val_loss: 0.4449 - val_accuracy: 0.8442\n",
      "Epoch 25/50\n",
      "5/5 [==============================] - 0s 11ms/step - loss: 0.4277 - accuracy: 0.8774 - val_loss: 0.4394 - val_accuracy: 0.8182\n",
      "Epoch 26/50\n",
      "5/5 [==============================] - 0s 12ms/step - loss: 0.4188 - accuracy: 0.8683 - val_loss: 0.4382 - val_accuracy: 0.8571\n",
      "Epoch 27/50\n",
      "5/5 [==============================] - 0s 11ms/step - loss: 0.4066 - accuracy: 0.8876 - val_loss: 0.4346 - val_accuracy: 0.8571\n",
      "Epoch 28/50\n",
      "5/5 [==============================] - 0s 11ms/step - loss: 0.4228 - accuracy: 0.8683 - val_loss: 0.4264 - val_accuracy: 0.8442\n",
      "Epoch 29/50\n",
      "5/5 [==============================] - 0s 12ms/step - loss: 0.4207 - accuracy: 0.8635 - val_loss: 0.4220 - val_accuracy: 0.8442\n",
      "Epoch 30/50\n",
      "5/5 [==============================] - 0s 12ms/step - loss: 0.4050 - accuracy: 0.8806 - val_loss: 0.4191 - val_accuracy: 0.8571\n",
      "Epoch 31/50\n",
      "5/5 [==============================] - 0s 12ms/step - loss: 0.4039 - accuracy: 0.8911 - val_loss: 0.4159 - val_accuracy: 0.8571\n",
      "Epoch 32/50\n",
      "5/5 [==============================] - 0s 11ms/step - loss: 0.4022 - accuracy: 0.8855 - val_loss: 0.4121 - val_accuracy: 0.8571\n",
      "Epoch 33/50\n",
      "5/5 [==============================] - 0s 11ms/step - loss: 0.3887 - accuracy: 0.9011 - val_loss: 0.4059 - val_accuracy: 0.8571\n",
      "Epoch 34/50\n",
      "5/5 [==============================] - 0s 12ms/step - loss: 0.3728 - accuracy: 0.8776 - val_loss: 0.4023 - val_accuracy: 0.8571\n",
      "Epoch 35/50\n",
      "5/5 [==============================] - 0s 12ms/step - loss: 0.4035 - accuracy: 0.8738 - val_loss: 0.4022 - val_accuracy: 0.8571\n",
      "Epoch 36/50\n",
      "5/5 [==============================] - 0s 11ms/step - loss: 0.3929 - accuracy: 0.9011 - val_loss: 0.3952 - val_accuracy: 0.8571\n",
      "Epoch 37/50\n",
      "5/5 [==============================] - 0s 11ms/step - loss: 0.3796 - accuracy: 0.8839 - val_loss: 0.3916 - val_accuracy: 0.8571\n",
      "Epoch 38/50\n",
      "5/5 [==============================] - 0s 11ms/step - loss: 0.3575 - accuracy: 0.9044 - val_loss: 0.3899 - val_accuracy: 0.8571\n",
      "Epoch 39/50\n",
      "5/5 [==============================] - 0s 12ms/step - loss: 0.3728 - accuracy: 0.8783 - val_loss: 0.3880 - val_accuracy: 0.8701\n",
      "Epoch 40/50\n",
      "5/5 [==============================] - 0s 11ms/step - loss: 0.3569 - accuracy: 0.8920 - val_loss: 0.3828 - val_accuracy: 0.8571\n",
      "Epoch 41/50\n",
      "5/5 [==============================] - 0s 12ms/step - loss: 0.3587 - accuracy: 0.8987 - val_loss: 0.3806 - val_accuracy: 0.8571\n",
      "Epoch 42/50\n",
      "5/5 [==============================] - 0s 12ms/step - loss: 0.3420 - accuracy: 0.9024 - val_loss: 0.3766 - val_accuracy: 0.8571\n",
      "Epoch 43/50\n",
      "5/5 [==============================] - 0s 10ms/step - loss: 0.3628 - accuracy: 0.8905 - val_loss: 0.3759 - val_accuracy: 0.8701\n",
      "Epoch 44/50\n",
      "5/5 [==============================] - 0s 9ms/step - loss: 0.3484 - accuracy: 0.8811 - val_loss: 0.3728 - val_accuracy: 0.8701\n",
      "Epoch 45/50\n",
      "5/5 [==============================] - 0s 14ms/step - loss: 0.3398 - accuracy: 0.8957 - val_loss: 0.3694 - val_accuracy: 0.8701\n",
      "Epoch 46/50\n",
      "5/5 [==============================] - 0s 10ms/step - loss: 0.3628 - accuracy: 0.8720 - val_loss: 0.3656 - val_accuracy: 0.8571\n",
      "Epoch 47/50\n",
      "5/5 [==============================] - 0s 12ms/step - loss: 0.3420 - accuracy: 0.8866 - val_loss: 0.3655 - val_accuracy: 0.8701\n",
      "Epoch 48/50\n",
      "5/5 [==============================] - 0s 12ms/step - loss: 0.3529 - accuracy: 0.8679 - val_loss: 0.3625 - val_accuracy: 0.8701\n",
      "Epoch 49/50\n",
      "5/5 [==============================] - 0s 12ms/step - loss: 0.3456 - accuracy: 0.8742 - val_loss: 0.3587 - val_accuracy: 0.8571\n",
      "Epoch 50/50\n",
      "5/5 [==============================] - 0s 12ms/step - loss: 0.3106 - accuracy: 0.9050 - val_loss: 0.3579 - val_accuracy: 0.8701\n"
     ]
    }
   ],
   "source": [
    "# Train the model\n",
    "#we set a dev set from the train set \n",
    "r = model.fit(X_train, y_train, batch_size=64, validation_split=0.2, epochs=50)# returns an object with information about training"
   ]
  },
  {
   "cell_type": "markdown",
   "metadata": {},
   "source": [
    "## Evaluate the model: "
   ]
  },
  {
   "cell_type": "code",
   "execution_count": 45,
   "metadata": {},
   "outputs": [
    {
     "name": "stdout",
     "output_type": "stream",
     "text": [
      "12/12 [==============================] - 0s 819us/step - loss: 0.3336 - accuracy: 0.8819\n",
      "Train score: [0.33355000615119934, 0.8818897604942322]\n",
      "6/6 [==============================] - 0s 998us/step - loss: 0.3098 - accuracy: 0.8989\n",
      "Test score: [0.3098447024822235, 0.8989361524581909]\n"
     ]
    }
   ],
   "source": [
    "# Evaluate the model - evaluate() returns loss and accuracy\n",
    "print(\"Train score:\", model.evaluate(X_train, y_train))\n",
    "print(\"Test score:\", model.evaluate(X_test, y_test))"
   ]
  },
  {
   "cell_type": "code",
   "execution_count": 46,
   "metadata": {},
   "outputs": [
    {
     "data": {
      "text/plain": [
       "dict"
      ]
     },
     "execution_count": 46,
     "metadata": {},
     "output_type": "execute_result"
    }
   ],
   "source": [
    "type(r.history) # holds a record of the loss values and metric values during training"
   ]
  },
  {
   "cell_type": "code",
   "execution_count": 47,
   "metadata": {
    "scrolled": true
   },
   "outputs": [
    {
     "data": {
      "text/plain": [
       "<matplotlib.legend.Legend at 0x18c5bb793d0>"
      ]
     },
     "execution_count": 47,
     "metadata": {},
     "output_type": "execute_result"
    },
    {
     "data": {
      "image/png": "[encoded data removed]",
      "text/plain": [
       "<Figure size 432x288 with 1 Axes>"
      ]
     },
     "metadata": {
      "needs_background": "light"
     },
     "output_type": "display_data"
    }
   ],
   "source": [
    "# Plot what's returned by model.fit()\n",
    "import matplotlib.pyplot as plt\n",
    "%matplotlib inline\n",
    "\n",
    "plt.plot(r.history['loss'], label='loss')\n",
    "plt.plot(r.history['val_loss'], label='val_loss')\n",
    "plt.legend()"
   ]
  },
  {
   "cell_type": "code",
   "execution_count": 48,
   "metadata": {},
   "outputs": [
    {
     "data": {
      "text/plain": [
       "<matplotlib.legend.Legend at 0x18c5bc24400>"
      ]
     },
     "execution_count": 48,
     "metadata": {},
     "output_type": "execute_result"
    },
    {
     "data": {
      "image/png": "[encoded data removed]",
      "text/plain": [
       "<Figure size 432x288 with 1 Axes>"
      ]
     },
     "metadata": {
      "needs_background": "light"
     },
     "output_type": "display_data"
    }
   ],
   "source": [
    "# Plot the accuracy too\n",
    "plt.plot(r.history['accuracy'], label='acc')\n",
    "plt.plot(r.history['val_accuracy'], label='val_acc')\n",
    "plt.legend()"
   ]
  },
  {
   "cell_type": "markdown",
   "metadata": {},
   "source": [
    "## Make predictions: "
   ]
  },
  {
   "cell_type": "code",
   "execution_count": 49,
   "metadata": {},
   "outputs": [
    {
     "name": "stdout",
     "output_type": "stream",
     "text": [
      "prediction for the first element is 0.0 with probability 0.0002193748950958252\n"
     ]
    }
   ],
   "source": [
    "import numpy as np\n",
    "Prob = model.predict(X_test)# they are outputs of the sigmoid\n",
    "Prediction = np.round(Prob).flatten()\n",
    "print(\"prediction for the first element is {} with probability {}\".format(Prediction[0],Prob[0][0]))"
   ]
  },
  {
   "cell_type": "markdown",
   "metadata": {},
   "source": [
    "## Saving and Loading a Model "
   ]
  },
  {
   "cell_type": "markdown",
   "metadata": {},
   "source": [
    "You can save an entire model to a single artifact. It will include:\n",
    "\n",
    "- The model's architecture/config\n",
    "- The model's weight values (which were learned during training)\n",
    "- The model's compilation information (if compile()) was called\n",
    "- The optimizer and its state, if any (this enables you to restart training where you left)\n",
    "\n"
   ]
  },
  {
   "cell_type": "code",
   "execution_count": 40,
   "metadata": {},
   "outputs": [
    {
     "name": "stdout",
     "output_type": "stream",
     "text": [
      "INFO:tensorflow:Assets written to: classifier/assets\n"
     ]
    }
   ],
   "source": [
    "model.save('classifier')"
   ]
  },
  {
   "cell_type": "code",
   "execution_count": 41,
   "metadata": {},
   "outputs": [
    {
     "name": "stdout",
     "output_type": "stream",
     "text": [
      "total 240\r\n",
      "-rw-r--r--  1 satyaalmasian  staff   119K Jan 27 11:56 Tensorflow_tutorial.ipynb\r\n",
      "drwxr-xr-x  5 satyaalmasian  staff   160B Jan 27 12:12 \u001b[34mclassifier\u001b[m\u001b[m\r\n"
     ]
    }
   ],
   "source": [
    "!ls -lh "
   ]
  },
  {
   "cell_type": "markdown",
   "metadata": {},
   "source": [
    "**saved_model.pb:** contains the model architecture, and training configuration (including the optimizer, losses, and metrics) \n",
    "\n",
    "**variables:**: The weights. "
   ]
  },
  {
   "cell_type": "code",
   "execution_count": 42,
   "metadata": {},
   "outputs": [
    {
     "name": "stdout",
     "output_type": "stream",
     "text": [
      "\u001b[34massets\u001b[m\u001b[m         saved_model.pb \u001b[34mvariables\u001b[m\u001b[m\r\n"
     ]
    }
   ],
   "source": [
    "! ls classifier"
   ]
  },
  {
   "cell_type": "code",
   "execution_count": 43,
   "metadata": {},
   "outputs": [
    {
     "name": "stdout",
     "output_type": "stream",
     "text": [
      "6/6 [==============================] - 0s 1ms/step - loss: 0.3462 - accuracy: 0.8617\n"
     ]
    },
    {
     "data": {
      "text/plain": [
       "<tensorflow.python.keras.callbacks.History at 0x7fc9ebe8f610>"
      ]
     },
     "execution_count": 43,
     "metadata": {},
     "output_type": "execute_result"
    }
   ],
   "source": [
    "# Let's load the model and confirm that it still works\n",
    "reconstructed_model = tf.keras.models.load_model('classifier')\n",
    "\n",
    "# Let's check if they are the same model \n",
    "np.testing.assert_allclose(\n",
    "    model.predict(X_test), reconstructed_model.predict(X_test)\n",
    ")\n",
    "# you can even resume training \n",
    "reconstructed_model.fit(X_test, y_test)"
   ]
  },
  {
   "cell_type": "markdown",
   "metadata": {},
   "source": [
    "### Functional API "
   ]
  },
  {
   "cell_type": "markdown",
   "metadata": {},
   "source": [
    "The Keras functional API is a way to create models that are more flexible models, which handle models with non-linear topology, shared layers, and even multiple inputs or outputs. You have to explicitly connect the output of one layer to the input of another layer. "
   ]
  },
  {
   "cell_type": "markdown",
   "metadata": {},
   "source": [
    "An input layer must be defined via the `Input class`, the next layer takes the input layer as input, it is best to retain a reference to the input layer. Then we incrementally add the next output to the input of the layer after... This allows for more complicated model designs, such as models that may have multiple input paths or output paths. "
   ]
  },
  {
   "cell_type": "markdown",
   "metadata": {},
   "source": [
    "We will use the Iris flowers multiclass classification dataset to demonstarte the Functional API.  "
   ]
  },
  {
   "cell_type": "code",
   "execution_count": 44,
   "metadata": {},
   "outputs": [],
   "source": [
    "from sklearn import datasets\n",
    "iris = datasets.load_iris()"
   ]
  },
  {
   "cell_type": "code",
   "execution_count": 45,
   "metadata": {},
   "outputs": [],
   "source": [
    "X_train, X_test, y_train, y_test = train_test_split(iris.data, iris.target, test_size=0.33)"
   ]
  },
  {
   "cell_type": "code",
   "execution_count": 46,
   "metadata": {},
   "outputs": [],
   "source": [
    "# define the layers\n",
    "D = X_train.shape[1]\n",
    "x_in = tf.keras.layers.Input(shape=(D,))\n",
    "x = tf.keras.layers.Dense(10,activation='relu')(x_in)\n",
    "x = tf.keras.layers.Dense(8,activation='relu')(x)\n",
    "x_out = tf.keras.layers.Dense(3,activation='softmax')(x)# we have 3 classes, so we use the softmax funciton \n",
    "\n",
    "# define the model\n",
    "model = tf.keras.models.Model(inputs=x_in, outputs=x_out,name=\"my_functional_model\")"
   ]
  },
  {
   "cell_type": "code",
   "execution_count": 47,
   "metadata": {},
   "outputs": [
    {
     "name": "stdout",
     "output_type": "stream",
     "text": [
      "Model: \"my_functional_model\"\n",
      "_________________________________________________________________\n",
      "Layer (type)                 Output Shape              Param #   \n",
      "=================================================================\n",
      "input_1 (InputLayer)         [(None, 4)]               0         \n",
      "_________________________________________________________________\n",
      "dense_5 (Dense)              (None, 10)                50        \n",
      "_________________________________________________________________\n",
      "dense_6 (Dense)              (None, 8)                 88        \n",
      "_________________________________________________________________\n",
      "dense_7 (Dense)              (None, 3)                 27        \n",
      "=================================================================\n",
      "Total params: 165\n",
      "Trainable params: 165\n",
      "Non-trainable params: 0\n",
      "_________________________________________________________________\n"
     ]
    }
   ],
   "source": [
    "model.summary()"
   ]
  },
  {
   "cell_type": "code",
   "execution_count": 48,
   "metadata": {},
   "outputs": [
    {
     "data": {
      "text/plain": [
       "<tensorflow.python.keras.callbacks.History at 0x7fc9ceea1890>"
      ]
     },
     "execution_count": 48,
     "metadata": {},
     "output_type": "execute_result"
    }
   ],
   "source": [
    "# compile the model\n",
    "model.compile(optimizer='adam', loss='sparse_categorical_crossentropy', metrics=['accuracy'])#we change the loss function \n",
    "# is appropriate for integer encoded class labels \n",
    "# fit the model\n",
    "model.fit(X_train, y_train, epochs=150, batch_size=32, verbose=0)# you can remove the report "
   ]
  },
  {
   "cell_type": "code",
   "execution_count": 49,
   "metadata": {},
   "outputs": [
    {
     "name": "stdout",
     "output_type": "stream",
     "text": [
      "2/2 [==============================] - 0s 2ms/step - loss: 0.5079 - accuracy: 0.9400\n"
     ]
    },
    {
     "data": {
      "text/plain": [
       "[0.5078591704368591, 0.9399999976158142]"
      ]
     },
     "execution_count": 49,
     "metadata": {},
     "output_type": "execute_result"
    }
   ],
   "source": [
    "# evaluate the model\n",
    "model.evaluate(X_test, y_test)"
   ]
  },
  {
   "cell_type": "markdown",
   "metadata": {},
   "source": [
    "## Keras Important Layers and Functions"
   ]
  },
  {
   "cell_type": "markdown",
   "metadata": {},
   "source": [
    "Keras layers API provides a set of pre-defined layers and functions that you can apply to them. Some of the layers worth noting are as follows: \n",
    "\n",
    "For convolutions: \n",
    "- `tf.keras.layers.Conv1D (filters=#output_channel, kernel_size=filter_size, strides=1, padding='valid',activation=None,.....)`\n",
    "- `tf.keras.layers.Conv2D(filters=#output_channel, kernel_size=filter_size, strides=(1, 1), padding='valid',activation=None,....`\n",
    "\n",
    "For Pooling (Same can be done with max pooling): \n",
    "\n",
    "- `tf.keras.layers.AveragePooling1D( pool_size=2, strides=None, padding='valid',....)`\n",
    "- `tf.keras.layers.AveragePooling2D(pool_size=(2, 2), strides=None, padding='valid',...)`\n",
    "\n",
    "For deeply connected layer: \n",
    " - `tf.keras.layers.Dense( units=#output_space, activation=None, use_bias=True,...)`\n",
    "\n",
    "For flattening of the input: \n",
    "- ` tf.keras.layers.Flatten(...)`\n",
    "\n",
    "For RNNS: \n",
    "- `tf.keras.layers.GRU(units=#ouput_space, activation='tanh',  use_bias=True,initial_state =#custom_init_state ...)`\n",
    "- `tf.keras.layers.LSTM( units=#ouput_space, activation='tanh', use_bias=True, ...) `\n",
    "- `tf.keras.layers.RNN(cell=#list_cell_instances, return_sequences=False, return_state=False, go_backwards=False,..)`\n",
    "- `tf.keras.layers.Bidirectional(layer=#instance_of_RNN_or_lstm_or_gru, merge_mode='concat', weights=None, backward_layer=None,...)`\n",
    "\n",
    "For Input: \n",
    "- `tf.keras.layers.InputLayer(input_shape=None, batch_size=None, dtype=None, input_tensor=None, sparse=False,...)`\n",
    "-`tf.keras.layers.Embedding(input_dim, output_dim, embeddings_initializer='uniform',...`)\n",
    "\n",
    "For Tensor operations: \n",
    "- `tf.keras.layers.Concatenate(axis=-1,...)`\n",
    "- `tf.keras.layers.Reshape(target_shape,...)`\n",
    "- `tf.keras.layers.Multiply(...)`\n",
    "\n",
    "\n",
    "Many others, some important concepts and layer not discussed in class are : \n",
    "\n",
    "- **Dropout:**  randomly sets input units to 0 with a frequency of rate at each step during training time, which helps prevent overfitting. (only applies when training)\n",
    "- **BatchNormalization:** transformation so that the mean output close to 0 and the output standard deviation close to 1. Same as scaling your input, it makes the training easier. "
   ]
  },
  {
   "cell_type": "markdown",
   "metadata": {},
   "source": [
    "We see more of these layers when we create different models. "
   ]
  },
  {
   "cell_type": "markdown",
   "metadata": {},
   "source": [
    "## Keras preprocessing layers "
   ]
  },
  {
   "cell_type": "markdown",
   "metadata": {},
   "source": [
    "You can use these layers to create a pre-processing pipeline. They can be combined directly with Keras models, and exported with the rest of your model. "
   ]
  },
  {
   "cell_type": "markdown",
   "metadata": {},
   "source": [
    "## Core preprocessing layers"
   ]
  },
  {
   "cell_type": "markdown",
   "metadata": {},
   "source": [
    "- `TextVectorization`: turns raw strings into an encoded representation that can be read by an `Embedding layer` or `Dense layer`.\n",
    "- `Normalization layer`: performs feature-wise normalize of input features."
   ]
  },
  {
   "cell_type": "markdown",
   "metadata": {},
   "source": [
    "## Structured data preprocessing layers"
   ]
  },
  {
   "cell_type": "markdown",
   "metadata": {},
   "source": [
    "- `CategoryEncoding layer`: turns integer categorical features into one-hot, multi-hot, or TF-IDF dense representations.\n",
    "- `Discretization layer`: turns continuous numerical features into integer categorical features.\n",
    "- `StringLookup layer`: turns to string categorical values into integers indices.\n",
    "- `CategoryCrossing layer`: combines categorical features into co-occurrence features. E.g. if you have feature values \"a\" and \"b\", it can provide with the combination feature \"a and b are present at the same time\".\n"
   ]
  },
  {
   "cell_type": "markdown",
   "metadata": {},
   "source": [
    "Some layers require **adaptation**, meaning these layers have an internal state that must be computed based on a sample of the training . These layers are **non-trainable**, their state must be set before training, using the `adapt` method.\n",
    "- `TextVectorization`\n",
    "- `Normalization`\n",
    "- `StringLookup`\n",
    "- `CategoryEncoding`\n",
    "- `Discretization`"
   ]
  },
  {
   "cell_type": "code",
   "execution_count": 50,
   "metadata": {},
   "outputs": [
    {
     "name": "stdout",
     "output_type": "stream",
     "text": [
      "tf.Tensor(\n",
      "[[7 0 0 0 0 0]\n",
      " [3 5 8 6 2 4]], shape=(2, 6), dtype=int64)\n"
     ]
    }
   ],
   "source": [
    "from tensorflow.keras.layers.experimental import preprocessing\n",
    "data = [\n",
    "    \"hello\",\n",
    "    \"this is an introdcution to tensorflow\"\n",
    "]\n",
    "preprocessing_layer = preprocessing.TextVectorization()\n",
    "preprocessing_layer.adapt(data)\n",
    "vectorized_text = preprocessing_layer(data)\n",
    "print(vectorized_text)"
   ]
  },
  {
   "cell_type": "markdown",
   "metadata": {},
   "source": [
    "You can apply the preprocessing in two ways: \n",
    "\n",
    "**Option 1:** Make them part of the model. With this option, preprocessing will happen on whichever device you are training on (GPU/CPU). Another benefit is that the preprocessing will be part of the model you export, which makes the model portable. When all data preprocessing is part of the model, other people can load and use your model without having to be aware of how each feature is expected to be encoded & normalized. \n",
    "\n",
    "``` \n",
    "inputs = tf.keras.Input(shape=input_shape)\n",
    "x = preprocessing_layer(data)\n",
    "outputs = rest_of_the_model(x)\n",
    "model = tf.keras.Model(inputs, outputs)\n",
    "```"
   ]
  },
  {
   "cell_type": "markdown",
   "metadata": {},
   "source": [
    "**Option 2:** apply it to a TensorFlow dataset to obtain a dataset that yields batches of preprocessed data. With this option, your preprocessing will happen on the CPU.\n",
    "\n",
    "```\n",
    "dataset = dataset.map(\n",
    "  lambda x, y: (preprocessing_layer(x), y))\n",
    "```"
   ]
  },
  {
   "cell_type": "markdown",
   "metadata": {},
   "source": [
    "## Predict the tag for a Stack Overflow question"
   ]
  },
  {
   "cell_type": "markdown",
   "metadata": {},
   "source": [
    "In this example, we use a CNN to predict the category of programming questions from the StackOverflow (Python, CSharp, JavaScript, or Java). This is an example of multi-class classification. You can look at the in-depth tutorial here: https://www.tensorflow.org/tutorials/load_data/text"
   ]
  },
  {
   "cell_type": "code",
   "execution_count": 51,
   "metadata": {},
   "outputs": [],
   "source": [
    "#!pip install tensorflow_datasets\n",
    "#!pip install -q -U tensorflow-text"
   ]
  },
  {
   "cell_type": "code",
   "execution_count": 52,
   "metadata": {},
   "outputs": [],
   "source": [
    "import collections\n",
    "import pathlib\n",
    "import re\n",
    "import string\n",
    "\n",
    "import tensorflow as tf\n",
    "\n",
    "from tensorflow.keras import layers\n",
    "from tensorflow.keras import losses\n",
    "from tensorflow.keras import preprocessing\n",
    "from tensorflow.keras import utils\n",
    "from tensorflow.keras.layers.experimental.preprocessing import TextVectorization\n",
    "\n",
    "import tensorflow_datasets as tfds\n",
    "import tensorflow_text as tf_text"
   ]
  },
  {
   "cell_type": "code",
   "execution_count": 53,
   "metadata": {},
   "outputs": [],
   "source": [
    "data_url = 'https://storage.googleapis.com/download.tensorflow.org/data/stack_overflow_16k.tar.gz'\n",
    "dataset = utils.get_file(\n",
    "    'stack_overflow_16k.tar.gz',\n",
    "    data_url,\n",
    "    untar=True,\n",
    "    cache_dir='stack_overflow',\n",
    "    cache_subdir='')\n",
    "dataset_dir = pathlib.Path(dataset).parent"
   ]
  },
  {
   "cell_type": "markdown",
   "metadata": {},
   "source": [
    "The train folder contains the data for each class in a separate folder."
   ]
  },
  {
   "cell_type": "code",
   "execution_count": 54,
   "metadata": {},
   "outputs": [
    {
     "data": {
      "text/plain": [
       "[PosixPath('/tmp/.keras/train/python'),\n",
       " PosixPath('/tmp/.keras/train/java'),\n",
       " PosixPath('/tmp/.keras/train/csharp'),\n",
       " PosixPath('/tmp/.keras/train/javascript')]"
      ]
     },
     "execution_count": 54,
     "metadata": {},
     "output_type": "execute_result"
    }
   ],
   "source": [
    "train_dir = dataset_dir/'train'\n",
    "list(train_dir.iterdir())"
   ]
  },
  {
   "cell_type": "markdown",
   "metadata": {},
   "source": [
    "To read the data and prepare it into  format suitable for training we use 'tf.keras.preprocessing.text_dataset_from_directory' to create a tensorflow dataset. **Dateset** represents a set of elements and can contain transformation and preprocessing steps. During training it iterates over the dataset and process the elements."
   ]
  },
  {
   "cell_type": "code",
   "execution_count": 55,
   "metadata": {},
   "outputs": [
    {
     "name": "stdout",
     "output_type": "stream",
     "text": [
      "Found 8000 files belonging to 4 classes.\n",
      "Using 6400 files for training.\n",
      "Found 8000 files belonging to 4 classes.\n",
      "Using 1600 files for validation.\n",
      "Found 8000 files belonging to 4 classes.\n"
     ]
    }
   ],
   "source": [
    "batch_size = 32\n",
    "seed = 42\n",
    "test_dir = dataset_dir/'test'\n",
    "\n",
    "raw_train_ds = preprocessing.text_dataset_from_directory(\n",
    "    train_dir,\n",
    "    batch_size=batch_size,\n",
    "    validation_split=0.2,# we keep some of the data for validation \n",
    "    subset='training',\n",
    "    seed=seed)\n",
    "\n",
    "raw_val_ds = preprocessing.text_dataset_from_directory(\n",
    "    train_dir,\n",
    "    batch_size=batch_size,\n",
    "    validation_split=0.2,\n",
    "    subset='validation',\n",
    "    seed=seed)\n",
    "\n",
    "raw_test_ds = preprocessing.text_dataset_from_directory(\n",
    "    test_dir, batch_size=batch_size)"
   ]
  },
  {
   "cell_type": "markdown",
   "metadata": {},
   "source": [
    "The labels are 0, 1, 2 or 3. To see which of these correspond to which string label, you can check the class_names property on the dataset."
   ]
  },
  {
   "cell_type": "code",
   "execution_count": 56,
   "metadata": {},
   "outputs": [
    {
     "name": "stdout",
     "output_type": "stream",
     "text": [
      "Question:  b'\"option and validation in blank i want to add a new option on my system where i want to add two text files, both rental.txt and customer.txt. inside each text are id numbers of the customer, the videotape they need and the price...i want to place it as an option on my code. right now i have:...add customer.rent return.view list.search.exit...i want to add this as my sixth option. say for example i ordered a video, it would display the price and would let me confirm the price and if i am going to buy it or not...here is my current code:..  import blank.io.*;.    import blank.util.arraylist;.    import static blank.lang.system.out;..    public class rentalsystem{.    static bufferedreader input = new bufferedreader(new inputstreamreader(system.in));.    static file file = new file(\"\"file.txt\"\");.    static arraylist&lt;string&gt; list = new arraylist&lt;string&gt;();.    static int rows;..    public static void main(string[] args) throws exception{.        introduction();.        system.out.print(\"\"nn\"\");.        login();.        system.out.print(\"\"nnnnnnnnnnnnnnnnnnnnnn\"\");.        introduction();.        string repeat;.        do{.            loadfile();.            system.out.print(\"\"nwhat do you want to do?nn\"\");.            system.out.print(\"\"n                    - - - - - - - - - - - - - - - - - - - - - - -\"\");.            system.out.print(\"\"nn                    |     1. add customer    |   2. rent return |n\"\");.            system.out.print(\"\"n                    - - - - - - - - - - - - - - - - - - - - - - -\"\");.            system.out.print(\"\"nn                    |     3. view list       |   4. search      |n\"\");.            system.out.print(\"\"n                    - - - - - - - - - - - - - - - - - - - - - - -\"\");.            system.out.print(\"\"nn                                             |   5. exit        |n\"\");.            system.out.print(\"\"n                                              - - - - - - - - - -\"\");.            system.out.print(\"\"nnchoice:\"\");.            int choice = integer.parseint(input.readline());.            switch(choice){.                case 1:.                    writedata();.                    break;.                case 2:.                    rentdata();.                    break;.                case 3:.                    viewlist();.                    break;.                case 4:.                    search();.                    break;.                case 5:.                    system.out.println(\"\"goodbye!\"\");.                    system.exit(0);.                default:.                    system.out.print(\"\"invalid choice: \"\");.                    break;.            }.            system.out.print(\"\"ndo another task? [y/n] \"\");.            repeat = input.readline();.        }while(repeat.equals(\"\"y\"\"));..        if(repeat!=\"\"y\"\") system.out.println(\"\"ngoodbye!\"\");..    }..    public static void writedata() throws exception{.        system.out.print(\"\"nname: \"\");.        string cname = input.readline();.        system.out.print(\"\"address: \"\");.        string add = input.readline();.        system.out.print(\"\"phone no.: \"\");.        string pno = input.readline();.        system.out.print(\"\"rental amount: \"\");.        string ramount = input.readline();.        system.out.print(\"\"tapenumber: \"\");.        string tno = input.readline();.        system.out.print(\"\"title: \"\");.        string title = input.readline();.        system.out.print(\"\"date borrowed: \"\");.        string dborrowed = input.readline();.        system.out.print(\"\"due date: \"\");.        string ddate = input.readline();.        createline(cname, add, pno, ramount,tno, title, dborrowed, ddate);.        rentdata();.    }..    public static void createline(string name, string address, string phone , string rental, string tapenumber, string title, string borrowed, string due) throws exception{.        filewriter fw = new filewriter(file, true);.        fw.write(\"\"nname: \"\"+name + \"\"naddress: \"\" + address +\"\"nphone no.: \"\"+ phone+\"\"nrentalamount: \"\"+rental+\"\"ntape no.: \"\"+ tapenumber+\"\"ntitle: \"\"+ title+\"\"ndate borrowed: \"\"+borrowed +\"\"ndue date: \"\"+ due+\"\":rn\"\");.        fw.close();.    }..    public static void loadfile() throws exception{.        try{.            list.clear();.            fileinputstream fstream = new fileinputstream(file);.            bufferedreader br = new bufferedreader(new inputstreamreader(fstream));.            rows = 0;.            while( br.ready()).            {.                list.add(br.readline());.                rows++;.            }.            br.close();.        } catch(exception e){.            system.out.println(\"\"list not yet loaded.\"\");.        }.    }..    public static void viewlist(){.        system.out.print(\"\"n~ ~ ~ ~ ~ ~ ~ ~ ~ ~ ~\"\");.        system.out.print(\"\" |list of all costumers|\"\");.        system.out.print(\"\"~ ~ ~ ~ ~ ~ ~ ~ ~ ~ ~\"\");.        for(int i = 0; i &lt;rows; i++){.            system.out.println(list.get(i));.        }.    }.        public static void rentdata()throws exception.    {   system.out.print(\"\"n~ ~ ~ ~ ~ ~ ~ ~ ~ ~ ~\"\");.        system.out.print(\"\" |rent data list|\"\");.        system.out.print(\"\"~ ~ ~ ~ ~ ~ ~ ~ ~ ~ ~\"\");.        system.out.print(\"\"nenter customer name: \"\");.        string cname = input.readline();.        system.out.print(\"\"date borrowed: \"\");.        string dborrowed = input.readline();.        system.out.print(\"\"due date: \"\");.        string ddate = input.readline();.        system.out.print(\"\"return date: \"\");.        string rdate = input.readline();.        system.out.print(\"\"rent amount: \"\");.        string ramount = input.readline();..        system.out.print(\"\"you pay:\"\"+ramount);...    }.    public static void search()throws exception.    {   system.out.print(\"\"n~ ~ ~ ~ ~ ~ ~ ~ ~ ~ ~\"\");.        system.out.print(\"\" |search costumers|\"\");.        system.out.print(\"\"~ ~ ~ ~ ~ ~ ~ ~ ~ ~ ~\"\");.        system.out.print(\"\"nenter costumer name: \"\");.        string cname = input.readline();.        boolean found = false;..        for(int i=0; i &lt; rows; i++){.            string temp[] = list.get(i).split(\"\",\"\");..            if(cname.equals(temp[0])){.            system.out.println(\"\"search result:nyou are \"\" + temp[0] + \"\" from \"\" + temp[1] + \"\".\"\"+ temp[2] + \"\".\"\"+ temp[3] + \"\".\"\"+ temp[4] + \"\".\"\"+ temp[5] + \"\" is \"\" + temp[6] + \"\".\"\"+ temp[7] + \"\" is \"\" + temp[8] + \"\".\"\");.                found = true;.            }.        }..        if(!found){.            system.out.print(\"\"no results.\"\");.        }..    }..        public static boolean evaluate(string uname, string pass){.        if (uname.equals(\"\"admin\"\")&amp;&amp;pass.equals(\"\"12345\"\")) return true;.        else return false;.    }..    public static string login()throws exception{.        bufferedreader input=new bufferedreader(new inputstreamreader(system.in));.        int counter=0;.        do{.            system.out.print(\"\"username:\"\");.            string uname =input.readline();.            system.out.print(\"\"password:\"\");.            string pass =input.readline();..            boolean accept= evaluate(uname,pass);..            if(accept){.                break;.                }else{.                    system.out.println(\"\"incorrect username or password!\"\");.                    counter ++;.                    }.        }while(counter&lt;3);..            if(counter !=3) return \"\"login successful\"\";.            else return \"\"login failed\"\";.            }.        public static void introduction() throws exception{..        system.out.println(\"\"                  - - - - - - - - - - - - - - - - - - - - - - - - -\"\");.        system.out.println(\"\"                  !                  r e n t a l                  !\"\");.        system.out.println(\"\"                   ! ~ ~ ~ ~ ~ !  =================  ! ~ ~ ~ ~ ~ !\"\");.        system.out.println(\"\"                  !                  s y s t e m                  !\"\");.        system.out.println(\"\"                  - - - - - - - - - - - - - - - - - - - - - - - - -\"\");.        }..}\"\\n'\n",
      "Label: 1\n",
      "Lable name: java\n",
      "Question:  b'\"exception: dynamic sql generation for the updatecommand is not supported against a selectcommand that does not return any key i dont know what is the problem this my code : ..string nomtable;..datatable listeetablissementtable = new datatable();.datatable listeinteretstable = new datatable();.dataset ds = new dataset();.sqldataadapter da;.sqlcommandbuilder cmdb;..private void listeinterets_click(object sender, eventargs e).{.    nomtable = \"\"listeinteretstable\"\";.    d.cnx.open();.    da = new sqldataadapter(\"\"select nome from offices\"\", d.cnx);.    ds = new dataset();.    da.fill(ds, nomtable);.    datagridview1.datasource = ds.tables[nomtable];.}..private void sauvgarder_click(object sender, eventargs e).{.    d.cnx.open();.    cmdb = new sqlcommandbuilder(da);.    da.update(ds, nomtable);.    d.cnx.close();.}\"\\n'\n",
      "Label: 0\n",
      "Lable name: csharp\n"
     ]
    }
   ],
   "source": [
    "for text_batch, label_batch in raw_train_ds.take(1):\n",
    "    for i in range(2,4):\n",
    "        print(\"Question: \", text_batch.numpy()[i])\n",
    "        print(\"Label:\", label_batch.numpy()[i])\n",
    "        print(\"Lable name:\",raw_train_ds.class_names[label_batch.numpy()[i]])"
   ]
  },
  {
   "cell_type": "markdown",
   "metadata": {},
   "source": [
    "**Prepare the dataset for training:** We clean the text, tokenize it and vectorize it using the `preprocessing.TextVectorization`. \n",
    "- The default standardization converts text to lowercase and removes punctuation.\n",
    "\n",
    "- The default tokenizer splits on whitespace.\n",
    "\n",
    "- The default vectorization mode is int. This outputs integer indices (one per token)."
   ]
  },
  {
   "cell_type": "code",
   "execution_count": 57,
   "metadata": {},
   "outputs": [],
   "source": [
    "MAX_SEQUENCE_LENGTH = 250\n",
    "VOCAB_SIZE = 10000\n",
    "\n",
    "int_vectorize_layer = TextVectorization(\n",
    "    max_tokens=VOCAB_SIZE,\n",
    "    output_mode='int',\n",
    "    output_sequence_length=MAX_SEQUENCE_LENGTH)#how big your sequences will be"
   ]
  },
  {
   "cell_type": "code",
   "execution_count": 58,
   "metadata": {},
   "outputs": [],
   "source": [
    "train_text = raw_train_ds.map(lambda text, labels: text)# only the text \n",
    "int_vectorize_layer.adapt(train_text)"
   ]
  },
  {
   "cell_type": "code",
   "execution_count": 59,
   "metadata": {},
   "outputs": [
    {
     "name": "stdout",
     "output_type": "stream",
     "text": [
      "'int' vectorized question: tf.Tensor(\n",
      "[[1011  773    9 2456    8 1863 2362  690 1267    4   40    5    1 1011\n",
      "   196   12   74   13   72   33    2   98  105   14    3   70 9611    3\n",
      "    34  888  202  773  107    8   41  242   40   58  291   90    3  196\n",
      "   191   10    2  182    6  668    6   13   30 1187   12  773   22   42\n",
      "     1   28    5  140   29 5213   15   29    1   28   51    1    1    1\n",
      "     7   23   30    3  291   10   67    6   32   65  185  166  102   14\n",
      "     2   65    6    1  193    9 2784   45 2410    0    0    0    0    0\n",
      "     0    0    0    0    0    0    0    0    0    0    0    0    0    0\n",
      "     0    0    0    0    0    0    0    0    0    0    0    0    0    0\n",
      "     0    0    0    0    0    0    0    0    0    0    0    0    0    0\n",
      "     0    0    0    0    0    0    0    0    0    0    0    0    0    0\n",
      "     0    0    0    0    0    0    0    0    0    0    0    0    0    0\n",
      "     0    0    0    0    0    0    0    0    0    0    0    0    0    0\n",
      "     0    0    0    0    0    0    0    0    0    0    0    0    0    0\n",
      "     0    0    0    0    0    0    0    0    0    0    0    0    0    0\n",
      "     0    0    0    0    0    0    0    0    0    0    0    0    0    0\n",
      "     0    0    0    0    0    0    0    0    0    0    0    0    0    0\n",
      "     0    0    0    0    0    0    0    0    0    0    0    0]], shape=(1, 250), dtype=int64) tf.Tensor(1, shape=(), dtype=int32)\n"
     ]
    }
   ],
   "source": [
    "text_batch, label_batch = next(iter(raw_train_ds))\n",
    "first_question, first_label = text_batch[0], label_batch[0]\n",
    "first_question=tf.expand_dims(first_question, -1)\n",
    "print(\"'int' vectorized question:\",\n",
    "      int_vectorize_layer(first_question), first_label)"
   ]
  },
  {
   "cell_type": "code",
   "execution_count": 60,
   "metadata": {},
   "outputs": [
    {
     "name": "stdout",
     "output_type": "stream",
     "text": [
      "1289 --->  roman\n",
      "313 --->  source\n",
      "Vocabulary size: 10000\n"
     ]
    }
   ],
   "source": [
    "print(\"1289 ---> \", int_vectorize_layer.get_vocabulary()[1289])\n",
    "print(\"313 ---> \", int_vectorize_layer.get_vocabulary()[313])\n",
    "print(\"Vocabulary size: {}\".format(len(int_vectorize_layer.get_vocabulary())))"
   ]
  },
  {
   "cell_type": "markdown",
   "metadata": {},
   "source": [
    "You also need to preprocess the validation and test set in the same way:"
   ]
  },
  {
   "cell_type": "code",
   "execution_count": 61,
   "metadata": {},
   "outputs": [],
   "source": [
    "def int_vectorize_text(text, label):\n",
    "    text = tf.expand_dims(text, -1)\n",
    "    return int_vectorize_layer(text), label\n",
    "    \n",
    "int_train_ds = raw_train_ds.map(int_vectorize_text)\n",
    "int_val_ds = raw_val_ds.map(int_vectorize_text)\n",
    "int_test_ds = raw_test_ds.map(int_vectorize_text)"
   ]
  },
  {
   "cell_type": "markdown",
   "metadata": {},
   "source": [
    "**Configure the dataset for performance:** You can read more about efficiently loading your data here : https://www.tensorflow.org/guide/data_performance. Two important methods to keep in mind are `.cache()` to keep data in memory after it's loaded off disk and `.prefetch()` overlaps data preprocessing and model execution while training."
   ]
  },
  {
   "cell_type": "code",
   "execution_count": 62,
   "metadata": {},
   "outputs": [],
   "source": [
    "AUTOTUNE = tf.data.AUTOTUNE\n",
    "\n",
    "def configure_dataset(dataset):\n",
    "    return dataset.cache().prefetch(buffer_size=AUTOTUNE)\n",
    "int_train_ds = configure_dataset(int_train_ds)\n",
    "int_val_ds = configure_dataset(int_val_ds)\n",
    "int_test_ds = configure_dataset(int_test_ds)"
   ]
  },
  {
   "cell_type": "markdown",
   "metadata": {},
   "source": [
    "We use 1D convultions with maxpooling: "
   ]
  },
  {
   "cell_type": "code",
   "execution_count": 63,
   "metadata": {},
   "outputs": [],
   "source": [
    "def create_model(vocab_size, num_labels):\n",
    "    model = tf.keras.Sequential([\n",
    "      layers.Embedding(vocab_size, 64, mask_zero=True),\n",
    "      layers.Conv1D(64, 5, padding=\"valid\", activation=\"relu\", strides=2),\n",
    "      layers.GlobalMaxPooling1D(), #Global max pooling = ordinary max pooling layer with pool size equals to the size of the input \n",
    "      layers.Dense(num_labels)\n",
    "  ])\n",
    "    return model"
   ]
  },
  {
   "cell_type": "code",
   "execution_count": 64,
   "metadata": {},
   "outputs": [
    {
     "name": "stdout",
     "output_type": "stream",
     "text": [
      "Epoch 1/5\n",
      "200/200 [==============================] - 3s 15ms/step - loss: 1.3021 - accuracy: 0.3980 - val_loss: 0.7539 - val_accuracy: 0.6900\n",
      "Epoch 2/5\n",
      "200/200 [==============================] - 2s 12ms/step - loss: 0.7033 - accuracy: 0.7187 - val_loss: 0.5559 - val_accuracy: 0.7875\n",
      "Epoch 3/5\n",
      "200/200 [==============================] - 2s 12ms/step - loss: 0.4390 - accuracy: 0.8567 - val_loss: 0.4783 - val_accuracy: 0.8194\n",
      "Epoch 4/5\n",
      "200/200 [==============================] - 2s 12ms/step - loss: 0.2515 - accuracy: 0.9385 - val_loss: 0.4735 - val_accuracy: 0.8156\n",
      "Epoch 5/5\n",
      "200/200 [==============================] - 2s 12ms/step - loss: 0.1308 - accuracy: 0.9739 - val_loss: 0.4967 - val_accuracy: 0.8106\n"
     ]
    }
   ],
   "source": [
    "# vocab_size is VOCAB_SIZE + 1 since 0 is used additionally for padding.\n",
    "int_model = create_model(vocab_size=VOCAB_SIZE + 1, num_labels=4)\n",
    "int_model.compile(\n",
    "    loss=losses.SparseCategoricalCrossentropy(from_logits=True),#It is not a probability distirbution but logits \n",
    "    optimizer='adam',\n",
    "    metrics=['accuracy'])\n",
    "history = int_model.fit(int_train_ds, validation_data=int_val_ds, epochs=5)"
   ]
  },
  {
   "cell_type": "code",
   "execution_count": 65,
   "metadata": {},
   "outputs": [
    {
     "name": "stdout",
     "output_type": "stream",
     "text": [
      "250/250 [==============================] - 1s 4ms/step - loss: 0.5216 - accuracy: 0.8040\n",
      "Int model accuracy: 80.40%\n"
     ]
    }
   ],
   "source": [
    "int_loss, int_accuracy = int_model.evaluate(int_test_ds)\n",
    "print(\"Int model accuracy: {:2.2%}\".format(int_accuracy))"
   ]
  },
  {
   "cell_type": "markdown",
   "metadata": {},
   "source": [
    "## Text classification with an RNN\n",
    " "
   ]
  },
  {
   "cell_type": "markdown",
   "metadata": {},
   "source": [
    "We train a RNN on the IMDB large movie review dataset for sentiment analysis. Full example can be seen here: https://www.tensorflow.org/tutorials/text/text_classification_rnn"
   ]
  },
  {
   "cell_type": "code",
   "execution_count": 66,
   "metadata": {},
   "outputs": [],
   "source": [
    "import matplotlib.pyplot as plt\n",
    "\n",
    "def plot_graphs(history, metric):\n",
    "    plt.plot(history.history[metric])\n",
    "    plt.plot(history.history['val_'+metric], '')\n",
    "    plt.xlabel(\"Epochs\")\n",
    "    plt.ylabel(metric)\n",
    "    plt.legend([metric, 'val_'+metric])\n"
   ]
  },
  {
   "cell_type": "code",
   "execution_count": 67,
   "metadata": {},
   "outputs": [
    {
     "data": {
      "text/plain": [
       "(TensorSpec(shape=(), dtype=tf.string, name=None),\n",
       " TensorSpec(shape=(), dtype=tf.int64, name=None))"
      ]
     },
     "execution_count": 67,
     "metadata": {},
     "output_type": "execute_result"
    }
   ],
   "source": [
    "dataset, info = tfds.load('imdb_reviews', with_info=True,\n",
    "                          as_supervised=True)\n",
    "train_dataset, test_dataset = dataset['train'], dataset['test']\n",
    "\n",
    "train_dataset.element_spec"
   ]
  },
  {
   "cell_type": "code",
   "execution_count": 68,
   "metadata": {},
   "outputs": [
    {
     "name": "stdout",
     "output_type": "stream",
     "text": [
      "text:  b\"This was an absolutely terrible movie. Don't be lured in by Christopher Walken or Michael Ironside. Both are great actors, but this must simply be their worst role in history. Even their great acting could not redeem this movie's ridiculous storyline. This movie is an early nineties US propaganda piece. The most pathetic scenes were those when the Columbian rebels were making their cases for revolutions. Maria Conchita Alonso appeared phony, and her pseudo-love affair with Walken was nothing but a pathetic emotional plug in a movie that was devoid of any real meaning. I am disappointed that there are movies like this, ruining actor's like Christopher Walken's good name. I could barely sit through it.\"\n",
      "label:  0\n"
     ]
    }
   ],
   "source": [
    "for example, label in train_dataset.take(1):\n",
    "    print('text: ', example.numpy())\n",
    "    print('label: ', label.numpy())"
   ]
  },
  {
   "cell_type": "code",
   "execution_count": 69,
   "metadata": {},
   "outputs": [],
   "source": [
    "BUFFER_SIZE = 10000\n",
    "BATCH_SIZE = 64\n",
    "train_dataset = train_dataset.shuffle(BUFFER_SIZE).batch(BATCH_SIZE).prefetch(tf.data.AUTOTUNE)\n",
    "test_dataset = test_dataset.batch(BATCH_SIZE).prefetch(tf.data.AUTOTUNE)"
   ]
  },
  {
   "cell_type": "code",
   "execution_count": 70,
   "metadata": {},
   "outputs": [],
   "source": [
    "VOCAB_SIZE=1000\n",
    "encoder = tf.keras.layers.experimental.preprocessing.TextVectorization(\n",
    "    max_tokens=VOCAB_SIZE)\n",
    "encoder.adapt(train_dataset.map(lambda text, label: text))"
   ]
  },
  {
   "cell_type": "code",
   "execution_count": 71,
   "metadata": {},
   "outputs": [
    {
     "data": {
      "text/plain": [
       "array([ 11,  14,  34, 412, 384,  18,  90,  28,   1,   8,  33,   1,   1,\n",
       "        42, 487,   1, 191,  24,  85, 152,  19,  11, 217, 316,  28,  65,\n",
       "       240, 214,   8, 489,  54,  65,  85, 112,  96,  22,   1,  11,  93,\n",
       "       642, 743,  11,  18,   7,  34, 394,   1, 170,   1, 408,   2,  88,\n",
       "         1, 137,  66, 144,  51,   2,   1,   1,  66, 245,  65,   1,  16,\n",
       "         1,   1,   1,   1,   1,   1,   3,  40,   1,   1,  17,   1,  14,\n",
       "       158,  19,   4,   1, 891,   1,   8,   4,  18,  12,  14,   1,   5,\n",
       "        99, 146,   1,  10, 237, 704,  12,  48,  24,  93,  39,  11,   1,\n",
       "       152,  39,   1,   1,  50, 398,  10,  96,   1, 851, 141,   9])"
      ]
     },
     "execution_count": 71,
     "metadata": {},
     "output_type": "execute_result"
    }
   ],
   "source": [
    "encoded_example = encoder(example).numpy()\n",
    "encoded_example"
   ]
  },
  {
   "cell_type": "code",
   "execution_count": 72,
   "metadata": {},
   "outputs": [
    {
     "name": "stdout",
     "output_type": "stream",
     "text": [
      "Original:  b\"This was an absolutely terrible movie. Don't be lured in by Christopher Walken or Michael Ironside. Both are great actors, but this must simply be their worst role in history. Even their great acting could not redeem this movie's ridiculous storyline. This movie is an early nineties US propaganda piece. The most pathetic scenes were those when the Columbian rebels were making their cases for revolutions. Maria Conchita Alonso appeared phony, and her pseudo-love affair with Walken was nothing but a pathetic emotional plug in a movie that was devoid of any real meaning. I am disappointed that there are movies like this, ruining actor's like Christopher Walken's good name. I could barely sit through it.\"\n",
      "Round-trip:  this was an absolutely terrible movie dont be [UNK] in by [UNK] [UNK] or michael [UNK] both are great actors but this must simply be their worst role in history even their great acting could not [UNK] this movies ridiculous storyline this movie is an early [UNK] us [UNK] piece the most [UNK] scenes were those when the [UNK] [UNK] were making their [UNK] for [UNK] [UNK] [UNK] [UNK] [UNK] [UNK] and her [UNK] [UNK] with [UNK] was nothing but a [UNK] emotional [UNK] in a movie that was [UNK] of any real [UNK] i am disappointed that there are movies like this [UNK] actors like [UNK] [UNK] good name i could [UNK] sit through it\n"
     ]
    }
   ],
   "source": [
    "vocab = np.array(encoder.get_vocabulary())\n",
    "print(\"Original: \", example.numpy())\n",
    "print(\"Round-trip: \", \" \".join(vocab[encoded_example]))"
   ]
  },
  {
   "cell_type": "markdown",
   "metadata": {},
   "source": [
    "The model : \n",
    "\n",
    "1. `encoder`, our preprocessing,  converts the text to a sequence of token indices.\n",
    "2. `Embedding` stores one vector per word, based on the indicies from `encoder`. These will become your word embeddings. \n",
    "3. `Bidirectional` RNN propagates the input forward and backwards through the RNN layer and then concatenates the final output with LSTM cells. \n",
    "4. Finally two `Dense` layers to get to our classification output. \n",
    "![alt text](https://www.tensorflow.org/tutorials/text/images/bidirectional.png \"keras\" )"
   ]
  },
  {
   "cell_type": "code",
   "execution_count": 73,
   "metadata": {},
   "outputs": [],
   "source": [
    "model = tf.keras.Sequential([\n",
    "    encoder,\n",
    "    tf.keras.layers.Embedding(\n",
    "        input_dim=len(encoder.get_vocabulary()),\n",
    "        output_dim=64,\n",
    "        # Use masking to handle the variable sequence lengths\n",
    "        mask_zero=True),\n",
    "    tf.keras.layers.Bidirectional(tf.keras.layers.LSTM(64)),\n",
    "    tf.keras.layers.Dense(64, activation='relu'),\n",
    "    tf.keras.layers.Dense(1)\n",
    "])"
   ]
  },
  {
   "cell_type": "markdown",
   "metadata": {},
   "source": [
    "The embedding layer uses masking to handle the varying sequence-lengths. All the layers after the Embedding support masking:"
   ]
  },
  {
   "cell_type": "code",
   "execution_count": 74,
   "metadata": {},
   "outputs": [
    {
     "name": "stdout",
     "output_type": "stream",
     "text": [
      "[False, True, True, True, True]\n"
     ]
    }
   ],
   "source": [
    "print([layer.supports_masking for layer in model.layers])"
   ]
  },
  {
   "cell_type": "code",
   "execution_count": 75,
   "metadata": {},
   "outputs": [],
   "source": [
    "model.compile(loss=tf.keras.losses.BinaryCrossentropy(from_logits=True),\n",
    "              optimizer=tf.keras.optimizers.Adam(1e-4),\n",
    "              metrics=['accuracy'])"
   ]
  },
  {
   "cell_type": "code",
   "execution_count": 76,
   "metadata": {
    "scrolled": true
   },
   "outputs": [
    {
     "name": "stdout",
     "output_type": "stream",
     "text": [
      "Epoch 1/10\n",
      "391/391 [==============================] - 291s 729ms/step - loss: 0.6837 - accuracy: 0.5139 - val_loss: 0.4960 - val_accuracy: 0.7896\n",
      "Epoch 2/10\n",
      "391/391 [==============================] - 326s 832ms/step - loss: 0.4313 - accuracy: 0.8024 - val_loss: 0.3569 - val_accuracy: 0.8484\n",
      "Epoch 3/10\n",
      "391/391 [==============================] - 340s 870ms/step - loss: 0.3389 - accuracy: 0.8509 - val_loss: 0.3385 - val_accuracy: 0.8547\n",
      "Epoch 4/10\n",
      "391/391 [==============================] - 326s 834ms/step - loss: 0.3220 - accuracy: 0.8603 - val_loss: 0.3257 - val_accuracy: 0.8589\n",
      "Epoch 5/10\n",
      "391/391 [==============================] - 335s 857ms/step - loss: 0.3058 - accuracy: 0.8681 - val_loss: 0.3302 - val_accuracy: 0.8583\n",
      "Epoch 6/10\n",
      "391/391 [==============================] - 302s 772ms/step - loss: 0.3100 - accuracy: 0.8690 - val_loss: 0.3301 - val_accuracy: 0.8417\n",
      "Epoch 7/10\n",
      "391/391 [==============================] - 291s 745ms/step - loss: 0.3042 - accuracy: 0.8695 - val_loss: 0.3317 - val_accuracy: 0.8609\n",
      "Epoch 8/10\n",
      "391/391 [==============================] - 282s 722ms/step - loss: 0.3050 - accuracy: 0.8711 - val_loss: 0.3237 - val_accuracy: 0.8531\n",
      "Epoch 9/10\n",
      "391/391 [==============================] - 289s 738ms/step - loss: 0.2969 - accuracy: 0.8713 - val_loss: 0.3247 - val_accuracy: 0.8568\n",
      "Epoch 10/10\n",
      "391/391 [==============================] - 285s 728ms/step - loss: 0.3030 - accuracy: 0.8690 - val_loss: 0.3288 - val_accuracy: 0.8589\n"
     ]
    }
   ],
   "source": [
    "history = model.fit(train_dataset, epochs=10,\n",
    "                    validation_data=test_dataset, \n",
    "                    validation_steps=30)"
   ]
  },
  {
   "cell_type": "code",
   "execution_count": 77,
   "metadata": {},
   "outputs": [
    {
     "name": "stdout",
     "output_type": "stream",
     "text": [
      "391/391 [==============================] - 75s 192ms/step - loss: 0.3250 - accuracy: 0.8634\n",
      "Test Loss: 0.32497838139533997\n",
      "Test Accuracy: 0.8633999824523926\n"
     ]
    }
   ],
   "source": [
    "test_loss, test_acc = model.evaluate(test_dataset)\n",
    "\n",
    "print('Test Loss: {}'.format(test_loss))\n",
    "print('Test Accuracy: {}'.format(test_acc))"
   ]
  },
  {
   "cell_type": "code",
   "execution_count": 78,
   "metadata": {},
   "outputs": [
    {
     "data": {
      "text/plain": [
       "(0, 0.6601747632026672)"
      ]
     },
     "execution_count": 78,
     "metadata": {},
     "output_type": "execute_result"
    },
    {
     "data": {
      "image/png": "[encoded data removed]",
      "text/plain": [
       "<Figure size 1152x576 with 2 Axes>"
      ]
     },
     "metadata": {
      "needs_background": "light"
     },
     "output_type": "display_data"
    }
   ],
   "source": [
    "plt.figure(figsize=(16,8))\n",
    "plt.subplot(1,2,1)\n",
    "plot_graphs(history, 'accuracy')\n",
    "plt.ylim(None,1)\n",
    "plt.subplot(1,2,2)\n",
    "plot_graphs(history, 'loss')\n",
    "plt.ylim(0,None)"
   ]
  },
  {
   "cell_type": "code",
   "execution_count": null,
   "metadata": {},
   "outputs": [],
   "source": []
  }
 ],
 "metadata": {
  "kernelspec": {
   "display_name": "Python 3",
   "language": "python",
   "name": "python3"
  },
  "language_info": {
   "codemirror_mode": {
    "name": "ipython",
    "version": 3
   },
   "file_extension": ".py",
   "mimetype": "text/x-python",
   "name": "python",
   "nbconvert_exporter": "python",
   "pygments_lexer": "ipython3",
   "version": "3.8.3"
  }
 },
 "nbformat": 4,
 "nbformat_minor": 2
}
